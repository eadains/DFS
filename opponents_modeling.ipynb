{
 "cells": [
  {
   "cell_type": "code",
   "execution_count": 1,
   "id": "554a1df7",
   "metadata": {},
   "outputs": [],
   "source": [
    "import pandas as pd\n",
    "import numpy as np\n",
    "from difflib import get_close_matches\n",
    "\n",
    "from linestar import get_historical_data"
   ]
  },
  {
   "cell_type": "code",
   "execution_count": 2,
   "id": "8aa99076",
   "metadata": {},
   "outputs": [],
   "source": [
    "def close_matches(x, possible):\n",
    "    matches = get_close_matches(x, possible)\n",
    "    if matches:\n",
    "        return matches[0]\n",
    "    else:\n",
    "        return np.nan"
   ]
  },
  {
   "cell_type": "code",
   "execution_count": 3,
   "id": "a819425b",
   "metadata": {
    "scrolled": true
   },
   "outputs": [
    {
     "name": "stderr",
     "output_type": "stream",
     "text": [
      "/home/eadains/DFS/linestar.py:51: GuessedAtParserWarning: No parser was explicitly specified, so I'm using the best available HTML parser for this system (\"lxml\"). This usually isn't a problem, but if you run this code on another system, or in a different virtual environment, it may use a different parser and behave differently.\n",
      "\n",
      "The code that caused this warning is on line 51 of the file /home/eadains/DFS/linestar.py. To get rid of this warning, pass the additional argument 'features=\"lxml\"' to the BeautifulSoup constructor.\n",
      "\n",
      "  soup = BeautifulSoup(html)\n"
     ]
    }
   ],
   "source": [
    "players = get_historical_data(\"2022-05-17\")\n",
    "\n",
    "ownership = pd.read_csv(\"2022-05-17.csv\")\n",
    "ownership = ownership.dropna()\n",
    "ownership[\"Actual Ownership\"] = (ownership[\"Actual Ownership\"].str[:-1].astype(float)) / 100\n",
    "ownership = ownership[[\"Player\", \"Actual Ownership\"]]\n",
    "# Ownership data names don't match exactly to the players, so get close matches\n",
    "ownership[\"Player\"] = ownership[\"Player\"].apply(lambda x: close_matches(x, players[\"Player\"]))\n",
    "\n",
    "data = players.merge(ownership, on=\"Player\")\n",
    "\n",
    "teams = pd.get_dummies(data[\"Team\"])\n",
    "games = pd.get_dummies(data[\"Game\"])"
   ]
  },
  {
   "cell_type": "code",
   "execution_count": 1,
   "id": "4610d275",
   "metadata": {},
   "outputs": [],
   "source": [
    "class OpponentTeams:\n",
    "    def __init__(self, players):\n",
    "        self.players = players\n",
    "        self.position_nums = {\"P\": 1, \"C/1B\": 1, \"2B\": 1, \"3B\": 1, \"SS\": 1, \"OF\": 3, \"UTIL\": 1}\n",
    "        self.pos_mat = self.get_position_matrix()\n",
    "        self.teams = pd.get_dummies(players[\"Team\"])\n",
    "        self.games = pd.get_dummies(players[\"Game\"])\n",
    "        \n",
    "    def get_position_matrix(self):\n",
    "        \"\"\"\n",
    "        Get matrix of 0/1 values indicating whether a player can fill a particular postions\n",
    "        Each row is a player and each column is a position\n",
    "        \"\"\"\n",
    "        positions = pd.get_dummies(self.players[\"Position\"])\n",
    "        # If a player plays either C or 1B, they can fill the 1B/C position\n",
    "        positions[\"C/1B\"] = (positions[\"1B\"].astype(bool) | positions[\"C\"].astype(bool)).astype(int)\n",
    "        positions = positions.drop(columns=[\"1B\", \"C\"])\n",
    "        # Reorder columns\n",
    "        positions = positions[[\"P\", \"C/1B\", \"2B\", \"3B\", \"SS\", \"OF\"]]\n",
    "        return positions\n",
    "    \n",
    "    def position_choice(self, position):\n",
    "        \"\"\"\n",
    "        Chooses a player randomly for given position\n",
    "        Returns numpy array containing player names selected for position\n",
    "        \"\"\"\n",
    "        # If position is C/1B cathers or first-basemen can fill\n",
    "        if position == \"C/1B\":\n",
    "            data = self.players.loc[self.players[\"Position\"].isin([\"C\", \"1B\"]), \"Player\"]\n",
    "            probs = self.players.loc[self.players[\"Position\"].isin([\"C\", \"1B\"]), \"Actual Ownership\"]\n",
    "        # If position is UTIL then anyone except pitchers can fill\n",
    "        elif position == \"UTIL\":\n",
    "            data = self.players.loc[self.players[\"Position\"] != \"P\", \"Player\"]\n",
    "            probs = self.players.loc[self.players[\"Position\"] != \"P\", \"Actual Ownership\"]\n",
    "        else:\n",
    "            data = self.players.loc[self.players[\"Position\"] == position, \"Player\"]\n",
    "            probs = self.players.loc[self.players[\"Position\"] == position, \"Actual Ownership\"]\n",
    "        # Set probability of choosing each player to the actual ownership numbers normalized\n",
    "        # to sum to 1\n",
    "        probs = probs / probs.sum()\n",
    "        choice = np.random.choice(data, self.position_nums[position], replace=False, p=probs)\n",
    "        return choice\n",
    "    \n",
    "    def select_team(self):\n",
    "        \"\"\"\n",
    "        Select entire team\n",
    "        Returns boolean integer array\n",
    "        \"\"\"\n",
    "        team = []\n",
    "        for position in self.position_nums.keys():\n",
    "            team.append(self.position_choice(position))\n",
    "        team = np.concatenate(team)\n",
    "        return self.players[\"Player\"].isin(team).astype(int)\n",
    "    \n",
    "    def check_valid_team(self, x):\n",
    "        \"\"\"\n",
    "        Check if a team is valid given FanDuel roster rules\n",
    "        \"\"\"\n",
    "        salary = x @ self.players[\"Salary\"] <= 35000\n",
    "        min_salary = x @ self.players[\"Salary\"] >= 34000\n",
    "        teams_con = (x @ self.teams >= 1).sum() >= 3\n",
    "        games_con = (x @ self.games >= 1).sum() >= 2\n",
    "        players_con = ((x * (~self.pos_mat[\"P\"].astype(bool))) @ teams <= 4).all()\n",
    "        total = np.sum(x) == 9\n",
    "        positions_max = [1, 2, 2, 2, 2, 4]\n",
    "        positions_min = [1, 1, 1, 1, 1, 3]\n",
    "        positions_max_con = (x @ self.pos_mat <= positions_max).all()\n",
    "        positions_min_con = (x @ self.pos_mat >= positions_min).all()\n",
    "        return salary & teams_con & games_con & players_con & total & positions_max_con & positions_min_con\n",
    "    \n",
    "    def get_team(self):\n",
    "        while True:\n",
    "            team = self.select_team()\n",
    "            if self.check_valid_team(team):\n",
    "                return team\n",
    "            else:\n",
    "                continue\n",
    "                \n",
    "    def get_order_stat(self, points, cutoff, num_opp):\n",
    "        opp_teams_scores = [self.get_team() @ points for x in range(num_opp)]\n",
    "        return opp_teams_scores[cutoff-1]"
   ]
  },
  {
   "cell_type": "code",
   "execution_count": 132,
   "id": "04dcf55d",
   "metadata": {},
   "outputs": [],
   "source": [
    "opps = OpponentTeams(data)"
   ]
  },
  {
   "cell_type": "code",
   "execution_count": 135,
   "id": "44fd5368",
   "metadata": {},
   "outputs": [
    {
     "data": {
      "text/plain": [
       "0     0\n",
       "1     0\n",
       "2     1\n",
       "3     0\n",
       "4     0\n",
       "     ..\n",
       "74    0\n",
       "75    0\n",
       "76    0\n",
       "77    0\n",
       "78    0\n",
       "Name: Player, Length: 79, dtype: int64"
      ]
     },
     "execution_count": 135,
     "metadata": {},
     "output_type": "execute_result"
    }
   ],
   "source": [
    "opps.get_team()"
   ]
  }
 ],
 "metadata": {
  "kernelspec": {
   "display_name": "Python 3 (ipykernel)",
   "language": "python",
   "name": "python3"
  },
  "language_info": {
   "codemirror_mode": {
    "name": "ipython",
    "version": 3
   },
   "file_extension": ".py",
   "mimetype": "text/x-python",
   "name": "python",
   "nbconvert_exporter": "python",
   "pygments_lexer": "ipython3",
   "version": "3.8.10"
  }
 },
 "nbformat": 4,
 "nbformat_minor": 5
}
