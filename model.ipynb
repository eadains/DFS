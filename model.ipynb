{
 "cells": [
  {
   "cell_type": "code",
   "execution_count": 58,
   "id": "a26be4ca",
   "metadata": {},
   "outputs": [],
   "source": [
    "import pandas as pd\n",
    "import numpy as np\n",
    "from cmdstanpy import CmdStanModel"
   ]
  },
  {
   "cell_type": "code",
   "execution_count": 84,
   "id": "b7ab870e",
   "metadata": {
    "scrolled": true
   },
   "outputs": [],
   "source": [
    "data = pd.read_csv(\"linestar_data.csv\")\n",
    "data[\"Opposing Pitcher\"] = data.loc[data[\"Position\"] != \"P\", \"Opponent\"].str.split(\",\", expand=True)[0]\n",
    "\n",
    "# A bunch of bullshit to get every players opposing pitcher matched with that\n",
    "# opposing pitchers projected points\n",
    "players = data.loc[data[\"Position\"] != \"P\", [\"Player\", \"Date\", \"Opposing Pitcher\"]]\n",
    "pitchers = data.loc[data[\"Position\"] == \"P\", [\"Player\", \"Date\", \"Projection\"]]\n",
    "pitchers.columns = [\"Opposing Pitcher\", \"Date\", \"Projection\"]\n",
    "op_projs = players.merge(pitchers, on=[\"Opposing Pitcher\", \"Date\"], how=\"left\")\n",
    "op_projs.columns = [\"Player\", \"Date\", \"Opposing Pitcher\", \"OP Projection\"]\n",
    "\n",
    "data = data.merge(op_projs, on=[\"Player\", \"Date\", \"Opposing Pitcher\"], how=\"left\")\n",
    "# Pitchers will have batting order 0\n",
    "data[\"Order\"] = data[\"Order\"].replace(np.nan, 0)\n",
    "data[\"Order\"] = data[\"Order\"].astype(int)\n",
    "# Stan indexes from 1, so we need the lowest position to be 1 instead of 0\n",
    "data[\"Order\"] += 1\n",
    "# Pitchers also have 0 opposing pitcher projection\n",
    "data[\"OP Projection\"] = data[\"OP Projection\"].replace(np.nan, 0)\n",
    "\n",
    "# Convert positions into integers\n",
    "data[\"Position\"], position_factors = pd.factorize(data[\"Position\"])\n",
    "# Stan indexes from 1, so we need the lowest position to be 1 instead of 0\n",
    "data[\"Position\"] += 1"
   ]
  },
  {
   "cell_type": "code",
   "execution_count": 86,
   "id": "9d6d761f",
   "metadata": {},
   "outputs": [],
   "source": [
    "y = data[\"Scored\"]\n",
    "x = data[[\"Projection\", \"OP Projection\"]]\n",
    "p = data[\"Position\"]\n",
    "b = data[\"Order\"]"
   ]
  },
  {
   "cell_type": "code",
   "execution_count": 87,
   "id": "6124211f",
   "metadata": {},
   "outputs": [],
   "source": [
    "model_spec = \"\"\"\n",
    "data {\n",
    "    int N;  // Length of data\n",
    "    vector[N] y;  // Points actually scored\n",
    "    matrix[N, 2] x;  // Projected points and opposing pitcher projected points\n",
    "    array[N] int p;  // Position\n",
    "    array[N] int b;  // Batting order\n",
    "}\n",
    "parameters {\n",
    "    real alpha;  // Regression constant\n",
    "    vector[2] beta;  // Slope coeffcients\n",
    "    vector[7] p_hat;  // Positions random intercepts\n",
    "    vector[10] b_hat;  // Batting order random intercepts\n",
    "    vector[7] mu_p;  // Positions random intercepts mean\n",
    "    vector[10] mu_b;  // Batting order intercepts mean\n",
    "    real<lower=0> sigma;  // Regression variance\n",
    "    real<lower=0> sigma_p;  // Positions intercept variance\n",
    "    real<lower=0> sigma_b;  // Batting order variance\n",
    "    corr_matrix[7] omega_p;  // Positions correlation\n",
    "    corr_matrix[10] omega_b;  // Batting order correlation\n",
    "}\n",
    "model {\n",
    "    alpha ~ normal(0, 1);\n",
    "    beta ~ normal(0, 5);\n",
    "    mu_p ~ normal(0, 10);\n",
    "    mu_b ~ normal(0, 10);\n",
    "    sigma ~ normal(0, 10);\n",
    "    sigma_p ~ normal(0, 10);\n",
    "    sigma_b ~ normal(0, 10);\n",
    "    omega_p ~ lkj_corr(2);\n",
    "    omega_b ~ lkj_corr(2);\n",
    "    \n",
    "    p_hat ~ multi_normal(mu_p, quad_form_diag(omega_p, rep_vector(sigma_p, 7)));\n",
    "    b_hat ~ multi_normal(mu_b, quad_form_diag(omega_b, rep_vector(sigma_b, 10)));\n",
    "    \n",
    "    for (n in 1:N) {\n",
    "        y[n] ~ normal(alpha + dot_product(x[n], beta) + p_hat[p[n]] + b_hat[b[n]], sigma);\n",
    "    }\n",
    "}\n",
    "\"\"\""
   ]
  },
  {
   "cell_type": "code",
   "execution_count": 88,
   "id": "0a3f9e00",
   "metadata": {},
   "outputs": [
    {
     "name": "stderr",
     "output_type": "stream",
     "text": [
      "INFO:cmdstanpy:compiling stan file /home/eadains/DFS/model.stan to exe file /home/eadains/DFS/model\n",
      "INFO:cmdstanpy:compiled model executable: /home/eadains/DFS/model\n"
     ]
    }
   ],
   "source": [
    "with open(\"./model.stan\", \"w\") as file:\n",
    "    file.write(model_spec)\n",
    "    \n",
    "model = CmdStanModel(stan_file=\"./model.stan\")"
   ]
  },
  {
   "cell_type": "code",
   "execution_count": 89,
   "id": "539c93ef",
   "metadata": {},
   "outputs": [
    {
     "name": "stderr",
     "output_type": "stream",
     "text": [
      "INFO:cmdstanpy:CmdStan start processing\n"
     ]
    },
    {
     "data": {
      "application/vnd.jupyter.widget-view+json": {
       "model_id": "c1687703d8a54255ad3bd9b0ac806a53",
       "version_major": 2,
       "version_minor": 0
      },
      "text/plain": [
       "chain 1 |          | 00:00 Status"
      ]
     },
     "metadata": {},
     "output_type": "display_data"
    },
    {
     "data": {
      "application/vnd.jupyter.widget-view+json": {
       "model_id": "6257a3e98bfb48f69ee08a965fae8217",
       "version_major": 2,
       "version_minor": 0
      },
      "text/plain": [
       "chain 2 |          | 00:00 Status"
      ]
     },
     "metadata": {},
     "output_type": "display_data"
    },
    {
     "data": {
      "application/vnd.jupyter.widget-view+json": {
       "model_id": "5e9a6243b2484e4ca0fd2c901aad4b33",
       "version_major": 2,
       "version_minor": 0
      },
      "text/plain": [
       "chain 3 |          | 00:00 Status"
      ]
     },
     "metadata": {},
     "output_type": "display_data"
    },
    {
     "data": {
      "application/vnd.jupyter.widget-view+json": {
       "model_id": "d04be4de4d914d06a2885686b4acb824",
       "version_major": 2,
       "version_minor": 0
      },
      "text/plain": [
       "chain 4 |          | 00:00 Status"
      ]
     },
     "metadata": {},
     "output_type": "display_data"
    },
    {
     "name": "stderr",
     "output_type": "stream",
     "text": [
      "ERROR:cmdstanpy:Chain [1] error: terminated by signal 2 Unknown error -2\n",
      "ERROR:cmdstanpy:Chain [4] error: terminated by signal 2 Unknown error -2\n",
      "ERROR:cmdstanpy:Chain [3] error: terminated by signal 2 Unknown error -2\n",
      "ERROR:cmdstanpy:Chain [2] error: terminated by signal 2 Unknown error -2\n"
     ]
    },
    {
     "ename": "KeyboardInterrupt",
     "evalue": "",
     "output_type": "error",
     "traceback": [
      "\u001b[0;31m---------------------------------------------------------------------------\u001b[0m",
      "\u001b[0;31mKeyboardInterrupt\u001b[0m                         Traceback (most recent call last)",
      "Input \u001b[0;32mIn [89]\u001b[0m, in \u001b[0;36m<cell line: 2>\u001b[0;34m()\u001b[0m\n\u001b[1;32m      1\u001b[0m data \u001b[38;5;241m=\u001b[39m {\u001b[38;5;124m\"\u001b[39m\u001b[38;5;124mN\u001b[39m\u001b[38;5;124m\"\u001b[39m: \u001b[38;5;28mlen\u001b[39m(y), \u001b[38;5;124m\"\u001b[39m\u001b[38;5;124my\u001b[39m\u001b[38;5;124m\"\u001b[39m: y\u001b[38;5;241m.\u001b[39mvalues, \u001b[38;5;124m\"\u001b[39m\u001b[38;5;124mx\u001b[39m\u001b[38;5;124m\"\u001b[39m: x\u001b[38;5;241m.\u001b[39mvalues, \u001b[38;5;124m\"\u001b[39m\u001b[38;5;124mp\u001b[39m\u001b[38;5;124m\"\u001b[39m: p\u001b[38;5;241m.\u001b[39mvalues, \u001b[38;5;124m\"\u001b[39m\u001b[38;5;124mb\u001b[39m\u001b[38;5;124m\"\u001b[39m: b\u001b[38;5;241m.\u001b[39mvalues}\n\u001b[0;32m----> 2\u001b[0m sample \u001b[38;5;241m=\u001b[39m \u001b[43mmodel\u001b[49m\u001b[38;5;241;43m.\u001b[39;49m\u001b[43msample\u001b[49m\u001b[43m(\u001b[49m\u001b[43mdata\u001b[49m\u001b[38;5;241;43m=\u001b[39;49m\u001b[43mdata\u001b[49m\u001b[43m,\u001b[49m\u001b[43m \u001b[49m\u001b[43mchains\u001b[49m\u001b[38;5;241;43m=\u001b[39;49m\u001b[38;5;241;43m4\u001b[39;49m\u001b[43m,\u001b[49m\u001b[43m \u001b[49m\u001b[43miter_warmup\u001b[49m\u001b[38;5;241;43m=\u001b[39;49m\u001b[38;5;241;43m100\u001b[39;49m\u001b[43m,\u001b[49m\u001b[43m \u001b[49m\u001b[43miter_sampling\u001b[49m\u001b[38;5;241;43m=\u001b[39;49m\u001b[38;5;241;43m900\u001b[39;49m\u001b[43m,\u001b[49m\u001b[43m \u001b[49m\u001b[43mshow_progress\u001b[49m\u001b[38;5;241;43m=\u001b[39;49m\u001b[38;5;28;43;01mTrue\u001b[39;49;00m\u001b[43m)\u001b[49m\n",
      "File \u001b[0;32m~/DFS/venv/lib/python3.8/site-packages/cmdstanpy/model.py:1037\u001b[0m, in \u001b[0;36mCmdStanModel.sample\u001b[0;34m(self, data, chains, parallel_chains, threads_per_chain, seed, chain_ids, inits, iter_warmup, iter_sampling, save_warmup, thin, max_treedepth, metric, step_size, adapt_engaged, adapt_delta, adapt_init_phase, adapt_metric_window, adapt_step_size, fixed_param, output_dir, sig_figs, save_latent_dynamics, save_profile, show_progress, show_console, refresh, time_fmt, force_one_process_per_chain)\u001b[0m\n\u001b[1;32m   1035\u001b[0m \u001b[38;5;28;01mwith\u001b[39;00m ThreadPoolExecutor(max_workers\u001b[38;5;241m=\u001b[39mparallel_procs) \u001b[38;5;28;01mas\u001b[39;00m executor:\n\u001b[1;32m   1036\u001b[0m     \u001b[38;5;28;01mfor\u001b[39;00m i \u001b[38;5;129;01min\u001b[39;00m \u001b[38;5;28mrange\u001b[39m(runset\u001b[38;5;241m.\u001b[39mnum_procs):\n\u001b[0;32m-> 1037\u001b[0m         executor\u001b[38;5;241m.\u001b[39msubmit(\n\u001b[1;32m   1038\u001b[0m             \u001b[38;5;28mself\u001b[39m\u001b[38;5;241m.\u001b[39m_run_cmdstan,\n\u001b[1;32m   1039\u001b[0m             runset\u001b[38;5;241m=\u001b[39mrunset,\n\u001b[1;32m   1040\u001b[0m             idx\u001b[38;5;241m=\u001b[39mi,\n\u001b[1;32m   1041\u001b[0m             show_progress\u001b[38;5;241m=\u001b[39mshow_progress,\n\u001b[1;32m   1042\u001b[0m             show_console\u001b[38;5;241m=\u001b[39mshow_console,\n\u001b[1;32m   1043\u001b[0m             progress_hook\u001b[38;5;241m=\u001b[39mprogress_hook,\n\u001b[1;32m   1044\u001b[0m         )\n\u001b[1;32m   1045\u001b[0m \u001b[38;5;28;01mif\u001b[39;00m show_progress \u001b[38;5;129;01mand\u001b[39;00m progress_hook \u001b[38;5;129;01mis\u001b[39;00m \u001b[38;5;129;01mnot\u001b[39;00m \u001b[38;5;28;01mNone\u001b[39;00m:\n\u001b[1;32m   1046\u001b[0m     progress_hook(\u001b[38;5;124m\"\u001b[39m\u001b[38;5;124mDone\u001b[39m\u001b[38;5;124m\"\u001b[39m, \u001b[38;5;241m-\u001b[39m\u001b[38;5;241m1\u001b[39m)  \u001b[38;5;66;03m# -1 == all chains finished\u001b[39;00m\n",
      "File \u001b[0;32m/usr/lib/python3.8/concurrent/futures/_base.py:644\u001b[0m, in \u001b[0;36mExecutor.__exit__\u001b[0;34m(self, exc_type, exc_val, exc_tb)\u001b[0m\n\u001b[1;32m    643\u001b[0m \u001b[38;5;28;01mdef\u001b[39;00m \u001b[38;5;21m__exit__\u001b[39m(\u001b[38;5;28mself\u001b[39m, exc_type, exc_val, exc_tb):\n\u001b[0;32m--> 644\u001b[0m     \u001b[38;5;28;43mself\u001b[39;49m\u001b[38;5;241;43m.\u001b[39;49m\u001b[43mshutdown\u001b[49m\u001b[43m(\u001b[49m\u001b[43mwait\u001b[49m\u001b[38;5;241;43m=\u001b[39;49m\u001b[38;5;28;43;01mTrue\u001b[39;49;00m\u001b[43m)\u001b[49m\n\u001b[1;32m    645\u001b[0m     \u001b[38;5;28;01mreturn\u001b[39;00m \u001b[38;5;28;01mFalse\u001b[39;00m\n",
      "File \u001b[0;32m/usr/lib/python3.8/concurrent/futures/thread.py:236\u001b[0m, in \u001b[0;36mThreadPoolExecutor.shutdown\u001b[0;34m(self, wait)\u001b[0m\n\u001b[1;32m    234\u001b[0m \u001b[38;5;28;01mif\u001b[39;00m wait:\n\u001b[1;32m    235\u001b[0m     \u001b[38;5;28;01mfor\u001b[39;00m t \u001b[38;5;129;01min\u001b[39;00m \u001b[38;5;28mself\u001b[39m\u001b[38;5;241m.\u001b[39m_threads:\n\u001b[0;32m--> 236\u001b[0m         \u001b[43mt\u001b[49m\u001b[38;5;241;43m.\u001b[39;49m\u001b[43mjoin\u001b[49m\u001b[43m(\u001b[49m\u001b[43m)\u001b[49m\n",
      "File \u001b[0;32m/usr/lib/python3.8/threading.py:1011\u001b[0m, in \u001b[0;36mThread.join\u001b[0;34m(self, timeout)\u001b[0m\n\u001b[1;32m   1008\u001b[0m     \u001b[38;5;28;01mraise\u001b[39;00m \u001b[38;5;167;01mRuntimeError\u001b[39;00m(\u001b[38;5;124m\"\u001b[39m\u001b[38;5;124mcannot join current thread\u001b[39m\u001b[38;5;124m\"\u001b[39m)\n\u001b[1;32m   1010\u001b[0m \u001b[38;5;28;01mif\u001b[39;00m timeout \u001b[38;5;129;01mis\u001b[39;00m \u001b[38;5;28;01mNone\u001b[39;00m:\n\u001b[0;32m-> 1011\u001b[0m     \u001b[38;5;28;43mself\u001b[39;49m\u001b[38;5;241;43m.\u001b[39;49m\u001b[43m_wait_for_tstate_lock\u001b[49m\u001b[43m(\u001b[49m\u001b[43m)\u001b[49m\n\u001b[1;32m   1012\u001b[0m \u001b[38;5;28;01melse\u001b[39;00m:\n\u001b[1;32m   1013\u001b[0m     \u001b[38;5;66;03m# the behavior of a negative timeout isn't documented, but\u001b[39;00m\n\u001b[1;32m   1014\u001b[0m     \u001b[38;5;66;03m# historically .join(timeout=x) for x<0 has acted as if timeout=0\u001b[39;00m\n\u001b[1;32m   1015\u001b[0m     \u001b[38;5;28mself\u001b[39m\u001b[38;5;241m.\u001b[39m_wait_for_tstate_lock(timeout\u001b[38;5;241m=\u001b[39m\u001b[38;5;28mmax\u001b[39m(timeout, \u001b[38;5;241m0\u001b[39m))\n",
      "File \u001b[0;32m/usr/lib/python3.8/threading.py:1027\u001b[0m, in \u001b[0;36mThread._wait_for_tstate_lock\u001b[0;34m(self, block, timeout)\u001b[0m\n\u001b[1;32m   1025\u001b[0m \u001b[38;5;28;01mif\u001b[39;00m lock \u001b[38;5;129;01mis\u001b[39;00m \u001b[38;5;28;01mNone\u001b[39;00m:  \u001b[38;5;66;03m# already determined that the C code is done\u001b[39;00m\n\u001b[1;32m   1026\u001b[0m     \u001b[38;5;28;01massert\u001b[39;00m \u001b[38;5;28mself\u001b[39m\u001b[38;5;241m.\u001b[39m_is_stopped\n\u001b[0;32m-> 1027\u001b[0m \u001b[38;5;28;01melif\u001b[39;00m \u001b[43mlock\u001b[49m\u001b[38;5;241;43m.\u001b[39;49m\u001b[43macquire\u001b[49m\u001b[43m(\u001b[49m\u001b[43mblock\u001b[49m\u001b[43m,\u001b[49m\u001b[43m \u001b[49m\u001b[43mtimeout\u001b[49m\u001b[43m)\u001b[49m:\n\u001b[1;32m   1028\u001b[0m     lock\u001b[38;5;241m.\u001b[39mrelease()\n\u001b[1;32m   1029\u001b[0m     \u001b[38;5;28mself\u001b[39m\u001b[38;5;241m.\u001b[39m_stop()\n",
      "\u001b[0;31mKeyboardInterrupt\u001b[0m: "
     ]
    }
   ],
   "source": [
    "data = {\"N\": len(y), \"y\": y.values, \"x\": x.values, \"p\": p.values, \"b\": b.values}\n",
    "sample = model.sample(data=data, chains=4, iter_warmup=100, iter_sampling=900, show_progress=True)"
   ]
  },
  {
   "cell_type": "code",
   "execution_count": null,
   "id": "20e9555e",
   "metadata": {},
   "outputs": [],
   "source": []
  }
 ],
 "metadata": {
  "kernelspec": {
   "display_name": "Python 3 (ipykernel)",
   "language": "python",
   "name": "python3"
  },
  "language_info": {
   "codemirror_mode": {
    "name": "ipython",
    "version": 3
   },
   "file_extension": ".py",
   "mimetype": "text/x-python",
   "name": "python",
   "nbconvert_exporter": "python",
   "pygments_lexer": "ipython3",
   "version": "3.8.10"
  }
 },
 "nbformat": 4,
 "nbformat_minor": 5
}
