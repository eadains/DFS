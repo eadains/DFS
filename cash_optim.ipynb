{
 "cells": [
  {
   "cell_type": "code",
   "execution_count": 34,
   "id": "e0dbc33f",
   "metadata": {},
   "outputs": [],
   "source": [
    "import pandas as pd\n",
    "import cvxpy\n",
    "\n",
    "from linestar import ProjectionData"
   ]
  },
  {
   "cell_type": "code",
   "execution_count": 35,
   "id": "84f9904c",
   "metadata": {},
   "outputs": [
    {
     "name": "stderr",
     "output_type": "stream",
     "text": [
      "/home/eadains/DFS/linestar.py:54: GuessedAtParserWarning: No parser was explicitly specified, so I'm using the best available HTML parser for this system (\"html.parser\"). This usually isn't a problem, but if you run this code on another system, or in a different virtual environment, it may use a different parser and behave differently.\n",
      "\n",
      "The code that caused this warning is on line 54 of the file /home/eadains/DFS/linestar.py. To get rid of this warning, pass the additional argument 'features=\"html.parser\"' to the BeautifulSoup constructor.\n",
      "\n",
      "  soup = BeautifulSoup(html)\n"
     ]
    }
   ],
   "source": [
    "proj = ProjectionData()"
   ]
  },
  {
   "cell_type": "code",
   "execution_count": 36,
   "id": "4db81e70",
   "metadata": {},
   "outputs": [],
   "source": [
    "slate = proj.slate\n",
    "positions = proj.pos_mat\n",
    "teams = proj.teams\n",
    "games = proj.games"
   ]
  },
  {
   "cell_type": "code",
   "execution_count": 37,
   "id": "011757ba",
   "metadata": {},
   "outputs": [],
   "source": [
    "selection = cvxpy.Variable(len(slate), boolean=True)\n",
    "teams_var = cvxpy.Variable(len(teams.columns), boolean=True)\n",
    "games_var = cvxpy.Variable(len(games.columns), boolean=True)\n",
    "\n",
    "# Total salary must be less than or equal to $35,000\n",
    "salary = selection @ slate[\"Salary\"] <= 35000\n",
    "\n",
    "# Must select players from at least 3 different teams\n",
    "teams_var_con = teams_var <= selection @ teams\n",
    "teams_con = cvxpy.sum(teams_var) >= 3\n",
    "\n",
    "# Must select players from at least 2 different games\n",
    "games_var_con = games_var <= selection @ games\n",
    "games_con = cvxpy.sum(games_var) >= 2\n",
    "\n",
    "# No more than 4 players, not counting the pitcher, can be selected from the same team\n",
    "# First term is our selected players multiplied by a boolean array where 1's indicate non-pitcher players.\n",
    "# This filters the selected players so the constraint only applies to non-pitcher players\n",
    "players_teams = cvxpy.multiply(selection, (~positions[\"P\"].astype(bool)).astype(int)) @ teams <= 4\n",
    "\n",
    "# Must have 9 players selected\n",
    "total_players = cvxpy.sum(selection) == 9\n",
    "\n",
    "# Max and min number of players we can select for each position\n",
    "# Must always have 1 pitcher, who cannot fill the UTIL position\n",
    "# We can select up to 1 additional player from each other position because\n",
    "# the second can fill the UTIL position\n",
    "positions_max = [1, 2, 2, 2, 2, 4]\n",
    "positions_min = [1, 1, 1, 1, 1, 3]\n",
    "positions_max_con = selection @ positions <= positions_max\n",
    "positions_min_con = selection @ positions >= positions_min\n",
    "\n",
    "# Maxmize: Total number of fantasy points expcted for selected roster\n",
    "tfp = selection @ slate[\"Consensus\"]"
   ]
  },
  {
   "cell_type": "code",
   "execution_count": 38,
   "id": "4a878c74",
   "metadata": {
    "scrolled": false
   },
   "outputs": [
    {
     "name": "stdout",
     "output_type": "stream",
     "text": [
      "===============================================================================\n",
      "                                     CVXPY                                     \n",
      "                                     v1.2.1                                    \n",
      "===============================================================================\n",
      "(CVXPY) May 26 05:20:22 PM: Your problem has 226 variables, 9 constraints, and 0 parameters.\n",
      "(CVXPY) May 26 05:20:22 PM: It is compliant with the following grammars: DCP, DQCP\n",
      "(CVXPY) May 26 05:20:22 PM: (If you need to solve this problem multiple times, but with different data, consider using parameters.)\n",
      "(CVXPY) May 26 05:20:22 PM: CVXPY will first compile your problem; then, it will invoke a numerical solver to obtain a solution.\n",
      "-------------------------------------------------------------------------------\n",
      "                                  Compilation                                  \n",
      "-------------------------------------------------------------------------------\n",
      "(CVXPY) May 26 05:20:22 PM: Compiling problem (target solver=GLPK_MI).\n",
      "(CVXPY) May 26 05:20:22 PM: Reduction chain: FlipObjective -> Dcp2Cone -> CvxAttr2Constr -> ConeMatrixStuffing -> GLPK_MI\n",
      "(CVXPY) May 26 05:20:22 PM: Applying reduction FlipObjective\n",
      "(CVXPY) May 26 05:20:22 PM: Applying reduction Dcp2Cone\n",
      "(CVXPY) May 26 05:20:22 PM: Applying reduction CvxAttr2Constr\n",
      "(CVXPY) May 26 05:20:22 PM: Applying reduction ConeMatrixStuffing\n",
      "(CVXPY) May 26 05:20:22 PM: Applying reduction GLPK_MI\n",
      "(CVXPY) May 26 05:20:22 PM: Finished problem compilation (took 2.711e-02 seconds).\n",
      "-------------------------------------------------------------------------------\n",
      "                                Numerical solver                               \n",
      "-------------------------------------------------------------------------------\n",
      "(CVXPY) May 26 05:20:22 PM: Invoking solver GLPK_MI  to obtain a solution.\n",
      "-------------------------------------------------------------------------------\n",
      "                                    Summary                                    \n",
      "-------------------------------------------------------------------------------      0: obj =   0.000000000e+00 inf =   2.300e+01 (10)\n",
      "\n",
      "(CVXPY) May 26 05:20:22 PM: Problem status: optimal\n",
      "(CVXPY) May 26 05:20:22 PM: Optimal value: 1.334e+02\n",
      "     25: obj =  -1.103200000e+02 inf =   2.735e-17 (0)\n",
      "*    72: obj =  -1.335053333e+02 inf =   2.201e-15 (0)\n",
      "+    72: mip =     not found yet >=              -inf        (1; 0)\n",
      "Solution found by heuristic: -133.36\n",
      "+    90: >>>>>  -1.334000000e+02 >=  -1.334400000e+02 < 0.1% (2; 2)\n",
      "+    90: mip =  -1.334000000e+02 >=     tree is empty   0.0% (0; 7)\n",
      "(CVXPY) May 26 05:20:22 PM: Compilation took 2.711e-02 seconds\n",
      "(CVXPY) May 26 05:20:22 PM: Solver (including time spent in interface) took 7.625e-03 seconds\n"
     ]
    }
   ],
   "source": [
    "constraints = [salary,\n",
    "               teams_var_con,\n",
    "               teams_con,\n",
    "               games_var_con,\n",
    "               games_con,\n",
    "               players_teams,\n",
    "               total_players,\n",
    "               positions_max_con,\n",
    "               positions_min_con]\n",
    "problem = cvxpy.Problem(cvxpy.Maximize(tfp), constraints=constraints)\n",
    "result = problem.solve(solver=cvxpy.GLPK_MI, verbose=True)"
   ]
  },
  {
   "cell_type": "code",
   "execution_count": 39,
   "id": "bf2c3d51",
   "metadata": {},
   "outputs": [
    {
     "name": "stdout",
     "output_type": "stream",
     "text": [
      "Expected Points: 124.16999999999999\n",
      "\n",
      "Roster:\n",
      "Aaron Nola\n",
      "Byron Buxton\n",
      "Mike Trout\n",
      "Juan Soto\n",
      "Freddie Freeman\n",
      "Javier Báez\n",
      "Edwin Ríos\n",
      "Justin Turner\n",
      "Jonathan Schoop\n"
     ]
    }
   ],
   "source": [
    "roster = dict(zip(slate[\"Player\"], selection.value))\n",
    "roster = [name for name, select in roster.items() if select > 0]\n",
    "\n",
    "print(f\"Expected Points: {selection.value @ slate['Projection']}\\n\")\n",
    "print(\"Roster:\")\n",
    "for x in roster:\n",
    "    print(x)"
   ]
  },
  {
   "cell_type": "code",
   "execution_count": null,
   "id": "0fdce213",
   "metadata": {},
   "outputs": [],
   "source": []
  }
 ],
 "metadata": {
  "kernelspec": {
   "display_name": "Python 3 (ipykernel)",
   "language": "python",
   "name": "python3"
  },
  "language_info": {
   "codemirror_mode": {
    "name": "ipython",
    "version": 3
   },
   "file_extension": ".py",
   "mimetype": "text/x-python",
   "name": "python",
   "nbconvert_exporter": "python",
   "pygments_lexer": "ipython3",
   "version": "3.9.12"
  }
 },
 "nbformat": 4,
 "nbformat_minor": 5
}
