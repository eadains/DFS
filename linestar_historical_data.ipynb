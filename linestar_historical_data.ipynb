{
 "cells": [
  {
   "cell_type": "code",
   "execution_count": 17,
   "id": "3d1ecefd",
   "metadata": {},
   "outputs": [],
   "source": [
    "from bs4 import BeautifulSoup\n",
    "import quopri\n",
    "import pandas as pd\n",
    "import numpy as np\n",
    "from os import listdir\n",
    "import seaborn as sns"
   ]
  },
  {
   "cell_type": "markdown",
   "id": "f1451a7f",
   "metadata": {},
   "source": [
    "# Making Historical Data CSV\n",
    "---"
   ]
  },
  {
   "cell_type": "code",
   "execution_count": 4,
   "id": "d712a867",
   "metadata": {},
   "outputs": [],
   "source": [
    "def extract_row_data(row, dtype=\"current\"):\n",
    "    cells = row.find_all(\"td\")\n",
    "    if dtype == \"current\":\n",
    "        return {\n",
    "            \"Player\": cells[5].find(class_=\"playername\").text,\n",
    "            \"Position\": cells[4].text,\n",
    "            # Some teams only have two characters, causing an extra space\n",
    "            # at the start, so strip that\n",
    "            \"Team\": cells[5].find(class_=\"playerTeam\").text[-3:].strip(),\n",
    "            \"Opponent\": cells[13].text,\n",
    "            \"Salary\": cells[9].text,\n",
    "            \"Projection\": cells[10].find(\"input\").get(\"value\")\n",
    "        }\n",
    "    elif dtype == \"historical\":\n",
    "        # TODO: get points actually scored\n",
    "            return {\n",
    "                \"Player\": cells[5].find(class_=\"playername\").text,\n",
    "                \"Position\": cells[4].text,\n",
    "                # Some teams only have two characters, causing an extra space\n",
    "                # at the start, so strip that\n",
    "                \"Team\": cells[5].find(class_=\"playerTeam\").text[-3:].strip(),\n",
    "                \"Salary\": cells[9].text,\n",
    "                \"Scored\": cells[10].text,\n",
    "                \"Projection\": cells[11].find(\"input\").get(\"value\"),\n",
    "                \"Consensus\": cells[12].text,\n",
    "                \"Time\": cells[13].text,\n",
    "                \"Opponent\": cells[14].text,\n",
    "                \"Order\": cells[16].text,\n",
    "                \"Bat/Arm\": cells[17].text,\n",
    "                \"Consistent\": cells[18].text,\n",
    "                \"Floor\": cells[19].text,\n",
    "                \"Ceiling\": cells[20].text,\n",
    "                \"Avg FP\": cells[22].text,\n",
    "                \"Imp Runs\": cells[23].text,\n",
    "                \"pOwn\": cells[25].text,\n",
    "                \"actOwn\": cells[26].text,\n",
    "                \"Leverage\": cells[27].text,\n",
    "                \"Safety\": cells[28].text\n",
    "            }\n",
    "\n",
    "\n",
    "def extract_linestar_data(filename, dtype=\"current\"):\n",
    "    html = open(filename, \"r\")\n",
    "    html = quopri.decodestring(html.read())\n",
    "    soup = BeautifulSoup(html)\n",
    "    \n",
    "    table = soup.find_all(\"table\")[0]\n",
    "    row_data = []\n",
    "    for row in table.find_all(\"tr\", class_=\"playerCardRow\"):\n",
    "        row_data.append(extract_row_data(row, dtype))\n",
    "    \n",
    "    return pd.DataFrame(row_data)"
   ]
  },
  {
   "cell_type": "code",
   "execution_count": 5,
   "id": "98f39033",
   "metadata": {
    "scrolled": true
   },
   "outputs": [
    {
     "ename": "KeyboardInterrupt",
     "evalue": "",
     "output_type": "error",
     "traceback": [
      "\u001b[0;31m---------------------------------------------------------------------------\u001b[0m",
      "\u001b[0;31mKeyboardInterrupt\u001b[0m                         Traceback (most recent call last)",
      "Input \u001b[0;32mIn [5]\u001b[0m, in \u001b[0;36m<cell line: 2>\u001b[0;34m()\u001b[0m\n\u001b[1;32m      1\u001b[0m frames \u001b[38;5;241m=\u001b[39m []\n\u001b[1;32m      2\u001b[0m \u001b[38;5;28;01mfor\u001b[39;00m file \u001b[38;5;129;01min\u001b[39;00m listdir(\u001b[38;5;124m\"\u001b[39m\u001b[38;5;124m./data\u001b[39m\u001b[38;5;124m\"\u001b[39m):\n\u001b[0;32m----> 3\u001b[0m     frame \u001b[38;5;241m=\u001b[39m \u001b[43mextract_linestar_data\u001b[49m\u001b[43m(\u001b[49m\u001b[38;5;124;43m\"\u001b[39;49m\u001b[38;5;124;43m./data/\u001b[39;49m\u001b[38;5;124;43m\"\u001b[39;49m\u001b[43m \u001b[49m\u001b[38;5;241;43m+\u001b[39;49m\u001b[43m \u001b[49m\u001b[43mfile\u001b[49m\u001b[43m,\u001b[49m\u001b[43m \u001b[49m\u001b[43mdtype\u001b[49m\u001b[38;5;241;43m=\u001b[39;49m\u001b[38;5;124;43m\"\u001b[39;49m\u001b[38;5;124;43mhistorical\u001b[39;49m\u001b[38;5;124;43m\"\u001b[39;49m\u001b[43m)\u001b[49m\n\u001b[1;32m      4\u001b[0m     frame[\u001b[38;5;124m\"\u001b[39m\u001b[38;5;124mDate\u001b[39m\u001b[38;5;124m\"\u001b[39m] \u001b[38;5;241m=\u001b[39m file[:\u001b[38;5;241m10\u001b[39m]\n\u001b[1;32m      5\u001b[0m     frames\u001b[38;5;241m.\u001b[39mappend(frame)\n",
      "Input \u001b[0;32mIn [4]\u001b[0m, in \u001b[0;36mextract_linestar_data\u001b[0;34m(filename, dtype)\u001b[0m\n\u001b[1;32m     43\u001b[0m html \u001b[38;5;241m=\u001b[39m \u001b[38;5;28mopen\u001b[39m(filename, \u001b[38;5;124m\"\u001b[39m\u001b[38;5;124mr\u001b[39m\u001b[38;5;124m\"\u001b[39m)\n\u001b[1;32m     44\u001b[0m html \u001b[38;5;241m=\u001b[39m quopri\u001b[38;5;241m.\u001b[39mdecodestring(html\u001b[38;5;241m.\u001b[39mread())\n\u001b[0;32m---> 45\u001b[0m soup \u001b[38;5;241m=\u001b[39m \u001b[43mBeautifulSoup\u001b[49m\u001b[43m(\u001b[49m\u001b[43mhtml\u001b[49m\u001b[43m)\u001b[49m\n\u001b[1;32m     47\u001b[0m table \u001b[38;5;241m=\u001b[39m soup\u001b[38;5;241m.\u001b[39mfind_all(\u001b[38;5;124m\"\u001b[39m\u001b[38;5;124mtable\u001b[39m\u001b[38;5;124m\"\u001b[39m)[\u001b[38;5;241m0\u001b[39m]\n\u001b[1;32m     48\u001b[0m row_data \u001b[38;5;241m=\u001b[39m []\n",
      "File \u001b[0;32m~/DFS/venv/lib/python3.8/site-packages/bs4/__init__.py:333\u001b[0m, in \u001b[0;36mBeautifulSoup.__init__\u001b[0;34m(self, markup, features, builder, parse_only, from_encoding, exclude_encodings, element_classes, **kwargs)\u001b[0m\n\u001b[1;32m    331\u001b[0m \u001b[38;5;28mself\u001b[39m\u001b[38;5;241m.\u001b[39mbuilder\u001b[38;5;241m.\u001b[39minitialize_soup(\u001b[38;5;28mself\u001b[39m)\n\u001b[1;32m    332\u001b[0m \u001b[38;5;28;01mtry\u001b[39;00m:\n\u001b[0;32m--> 333\u001b[0m     \u001b[38;5;28;43mself\u001b[39;49m\u001b[38;5;241;43m.\u001b[39;49m\u001b[43m_feed\u001b[49m\u001b[43m(\u001b[49m\u001b[43m)\u001b[49m\n\u001b[1;32m    334\u001b[0m     success \u001b[38;5;241m=\u001b[39m \u001b[38;5;28;01mTrue\u001b[39;00m\n\u001b[1;32m    335\u001b[0m     \u001b[38;5;28;01mbreak\u001b[39;00m\n",
      "File \u001b[0;32m~/DFS/venv/lib/python3.8/site-packages/bs4/__init__.py:451\u001b[0m, in \u001b[0;36mBeautifulSoup._feed\u001b[0;34m(self)\u001b[0m\n\u001b[1;32m    448\u001b[0m \u001b[38;5;66;03m# Convert the document to Unicode.\u001b[39;00m\n\u001b[1;32m    449\u001b[0m \u001b[38;5;28mself\u001b[39m\u001b[38;5;241m.\u001b[39mbuilder\u001b[38;5;241m.\u001b[39mreset()\n\u001b[0;32m--> 451\u001b[0m \u001b[38;5;28;43mself\u001b[39;49m\u001b[38;5;241;43m.\u001b[39;49m\u001b[43mbuilder\u001b[49m\u001b[38;5;241;43m.\u001b[39;49m\u001b[43mfeed\u001b[49m\u001b[43m(\u001b[49m\u001b[38;5;28;43mself\u001b[39;49m\u001b[38;5;241;43m.\u001b[39;49m\u001b[43mmarkup\u001b[49m\u001b[43m)\u001b[49m\n\u001b[1;32m    452\u001b[0m \u001b[38;5;66;03m# Close out any unfinished strings and close all the open tags.\u001b[39;00m\n\u001b[1;32m    453\u001b[0m \u001b[38;5;28mself\u001b[39m\u001b[38;5;241m.\u001b[39mendData()\n",
      "File \u001b[0;32m~/DFS/venv/lib/python3.8/site-packages/bs4/builder/_lxml.py:378\u001b[0m, in \u001b[0;36mLXMLTreeBuilder.feed\u001b[0;34m(self, markup)\u001b[0m\n\u001b[1;32m    376\u001b[0m \u001b[38;5;28;01mtry\u001b[39;00m:\n\u001b[1;32m    377\u001b[0m     \u001b[38;5;28mself\u001b[39m\u001b[38;5;241m.\u001b[39mparser \u001b[38;5;241m=\u001b[39m \u001b[38;5;28mself\u001b[39m\u001b[38;5;241m.\u001b[39mparser_for(encoding)\n\u001b[0;32m--> 378\u001b[0m     \u001b[38;5;28;43mself\u001b[39;49m\u001b[38;5;241;43m.\u001b[39;49m\u001b[43mparser\u001b[49m\u001b[38;5;241;43m.\u001b[39;49m\u001b[43mfeed\u001b[49m\u001b[43m(\u001b[49m\u001b[43mmarkup\u001b[49m\u001b[43m)\u001b[49m\n\u001b[1;32m    379\u001b[0m     \u001b[38;5;28mself\u001b[39m\u001b[38;5;241m.\u001b[39mparser\u001b[38;5;241m.\u001b[39mclose()\n\u001b[1;32m    380\u001b[0m \u001b[38;5;28;01mexcept\u001b[39;00m (\u001b[38;5;167;01mUnicodeDecodeError\u001b[39;00m, \u001b[38;5;167;01mLookupError\u001b[39;00m, etree\u001b[38;5;241m.\u001b[39mParserError) \u001b[38;5;28;01mas\u001b[39;00m e:\n",
      "File \u001b[0;32msrc/lxml/parser.pxi:1256\u001b[0m, in \u001b[0;36mlxml.etree._FeedParser.feed\u001b[0;34m()\u001b[0m\n",
      "File \u001b[0;32msrc/lxml/parser.pxi:1376\u001b[0m, in \u001b[0;36mlxml.etree._FeedParser.feed\u001b[0;34m()\u001b[0m\n",
      "File \u001b[0;32msrc/lxml/parsertarget.pxi:168\u001b[0m, in \u001b[0;36mlxml.etree._TargetParserContext._handleParseResult\u001b[0;34m()\u001b[0m\n",
      "File \u001b[0;32msrc/lxml/parsertarget.pxi:156\u001b[0m, in \u001b[0;36mlxml.etree._TargetParserContext._handleParseResult\u001b[0;34m()\u001b[0m\n",
      "File \u001b[0;32msrc/lxml/etree.pyx:333\u001b[0m, in \u001b[0;36mlxml.etree._ExceptionContext._raise_if_stored\u001b[0;34m()\u001b[0m\n",
      "File \u001b[0;32msrc/lxml/saxparser.pxi:443\u001b[0m, in \u001b[0;36mlxml.etree._handleSaxTargetStartNoNs\u001b[0;34m()\u001b[0m\n",
      "File \u001b[0;32msrc/lxml/saxparser.pxi:458\u001b[0m, in \u001b[0;36mlxml.etree._callTargetSaxStart\u001b[0;34m()\u001b[0m\n",
      "File \u001b[0;32msrc/lxml/parsertarget.pxi:94\u001b[0m, in \u001b[0;36mlxml.etree._PythonSaxParserTarget._handleSaxStart\u001b[0;34m()\u001b[0m\n",
      "File \u001b[0;32m~/DFS/venv/lib/python3.8/site-packages/bs4/builder/_lxml.py:290\u001b[0m, in \u001b[0;36mLXMLTreeBuilderForXML.start\u001b[0;34m(self, name, attrs, nsmap)\u001b[0m\n\u001b[1;32m    288\u001b[0m new_attrs \u001b[38;5;241m=\u001b[39m {}\n\u001b[1;32m    289\u001b[0m \u001b[38;5;28;01mfor\u001b[39;00m attr, value \u001b[38;5;129;01min\u001b[39;00m \u001b[38;5;28mlist\u001b[39m(attrs\u001b[38;5;241m.\u001b[39mitems()):\n\u001b[0;32m--> 290\u001b[0m     namespace, attr \u001b[38;5;241m=\u001b[39m \u001b[38;5;28;43mself\u001b[39;49m\u001b[38;5;241;43m.\u001b[39;49m\u001b[43m_getNsTag\u001b[49m(attr)\n\u001b[1;32m    291\u001b[0m     \u001b[38;5;28;01mif\u001b[39;00m namespace \u001b[38;5;129;01mis\u001b[39;00m \u001b[38;5;28;01mNone\u001b[39;00m:\n\u001b[1;32m    292\u001b[0m         new_attrs[attr] \u001b[38;5;241m=\u001b[39m value\n",
      "\u001b[0;31mKeyboardInterrupt\u001b[0m: "
     ]
    }
   ],
   "source": [
    "frames = []\n",
    "for file in listdir(\"./data\"):\n",
    "    frame = extract_linestar_data(\"./data/\" + file, dtype=\"historical\")\n",
    "    frame[\"Date\"] = file[:10]\n",
    "    frames.append(frame)"
   ]
  },
  {
   "cell_type": "code",
   "execution_count": 7,
   "id": "10af7573",
   "metadata": {},
   "outputs": [],
   "source": [
    "data = extract_linestar_data(\"./data/2022-05-17.mhtml\", dtype=\"historical\")"
   ]
  },
  {
   "cell_type": "code",
   "execution_count": 8,
   "id": "6f7e4523",
   "metadata": {
    "scrolled": true
   },
   "outputs": [],
   "source": [
    "#data = pd.concat(frames)\n",
    "# Remove (R) and (L) from pither names\n",
    "data.loc[data[\"Position\"] == \"P\", \"Player\"] = data.loc[data[\"Position\"] == \"P\", \"Player\"].str[:-4]\n",
    "data[\"Salary\"] = data[\"Salary\"].replace(\"[\\$,]\", \"\", regex=True).astype(int)\n",
    "data[\"Projection\"] = data[\"Projection\"].astype(float)\n",
    "data[\"Scored\"] = data[\"Scored\"].astype(float)\n",
    "data[[\"pOwn\", \"actOwn\"]] = data[[\"pOwn\", \"actOwn\"]].replace(\"[\\%]\", \"\", regex=True).astype(float)\n",
    "data[\"Position\"] = data[\"Position\"].str.split(\"/\", expand=True)[0]\n",
    "# Replace players with no batting order with NaN\n",
    "data[\"Order\"] = data[\"Order\"].replace({\"-\": np.nan})"
   ]
  },
  {
   "cell_type": "code",
   "execution_count": 5,
   "id": "eb5a1b48",
   "metadata": {},
   "outputs": [],
   "source": [
    "data.to_csv(\"linestar_data.csv\", index=False)"
   ]
  },
  {
   "cell_type": "markdown",
   "id": "f95257b1",
   "metadata": {},
   "source": [
    "# Correlation Matrix\n",
    "---"
   ]
  },
  {
   "cell_type": "code",
   "execution_count": 3,
   "id": "6f9cc772",
   "metadata": {},
   "outputs": [],
   "source": [
    "data = pd.read_csv(\"linestar_data.csv\")\n",
    "\n",
    "data[\"Opposing Pitcher\"] = data.loc[data[\"Position\"] != \"P\", \"Opponent\"].str.split(\",\", expand=True)[0]"
   ]
  },
  {
   "cell_type": "markdown",
   "id": "9867f121",
   "metadata": {},
   "source": [
    "### Batting Order"
   ]
  },
  {
   "cell_type": "code",
   "execution_count": 7,
   "id": "a7d62135",
   "metadata": {},
   "outputs": [],
   "source": [
    "batters = data[data[\"Position\"] != \"P\"]"
   ]
  },
  {
   "cell_type": "code",
   "execution_count": 12,
   "id": "812132bf",
   "metadata": {},
   "outputs": [],
   "source": [
    "order_scored = batters.groupby([\"Date\", \"Team\", \"Order\"]).sum()[\"Scored\"]"
   ]
  },
  {
   "cell_type": "code",
   "execution_count": 15,
   "id": "2f7ccadd",
   "metadata": {},
   "outputs": [],
   "source": [
    "corr = order_scored.unstack().corr()"
   ]
  },
  {
   "cell_type": "code",
   "execution_count": 18,
   "id": "45e67995",
   "metadata": {},
   "outputs": [
    {
     "data": {
      "text/plain": [
       "<AxesSubplot:xlabel='Order', ylabel='Order'>"
      ]
     },
     "execution_count": 18,
     "metadata": {},
     "output_type": "execute_result"
    },
    {
     "data": {
      "image/png": "[encoded data removed]",
      "text/plain": [
       "<Figure size 432x288 with 2 Axes>"
      ]
     },
     "metadata": {
      "needs_background": "light"
     },
     "output_type": "display_data"
    }
   ],
   "source": [
    "sns.heatmap(corr)"
   ]
  },
  {
   "cell_type": "code",
   "execution_count": 19,
   "id": "ca5bf505",
   "metadata": {},
   "outputs": [
    {
     "data": {
      "text/html": [
       "<div>\n",
       "<style scoped>\n",
       "    .dataframe tbody tr th:only-of-type {\n",
       "        vertical-align: middle;\n",
       "    }\n",
       "\n",
       "    .dataframe tbody tr th {\n",
       "        vertical-align: top;\n",
       "    }\n",
       "\n",
       "    .dataframe thead th {\n",
       "        text-align: right;\n",
       "    }\n",
       "</style>\n",
       "<table border=\"1\" class=\"dataframe\">\n",
       "  <thead>\n",
       "    <tr style=\"text-align: right;\">\n",
       "      <th>Order</th>\n",
       "      <th>1.0</th>\n",
       "      <th>2.0</th>\n",
       "      <th>3.0</th>\n",
       "      <th>4.0</th>\n",
       "      <th>5.0</th>\n",
       "      <th>6.0</th>\n",
       "      <th>7.0</th>\n",
       "      <th>8.0</th>\n",
       "      <th>9.0</th>\n",
       "    </tr>\n",
       "    <tr>\n",
       "      <th>Order</th>\n",
       "      <th></th>\n",
       "      <th></th>\n",
       "      <th></th>\n",
       "      <th></th>\n",
       "      <th></th>\n",
       "      <th></th>\n",
       "      <th></th>\n",
       "      <th></th>\n",
       "      <th></th>\n",
       "    </tr>\n",
       "  </thead>\n",
       "  <tbody>\n",
       "    <tr>\n",
       "      <th>1.0</th>\n",
       "      <td>1.000000</td>\n",
       "      <td>0.141999</td>\n",
       "      <td>0.160298</td>\n",
       "      <td>0.151876</td>\n",
       "      <td>0.128256</td>\n",
       "      <td>0.123804</td>\n",
       "      <td>0.150353</td>\n",
       "      <td>0.198005</td>\n",
       "      <td>0.171812</td>\n",
       "    </tr>\n",
       "    <tr>\n",
       "      <th>2.0</th>\n",
       "      <td>0.141999</td>\n",
       "      <td>1.000000</td>\n",
       "      <td>0.161247</td>\n",
       "      <td>0.138864</td>\n",
       "      <td>0.156243</td>\n",
       "      <td>0.123329</td>\n",
       "      <td>0.109134</td>\n",
       "      <td>0.137675</td>\n",
       "      <td>0.115137</td>\n",
       "    </tr>\n",
       "    <tr>\n",
       "      <th>3.0</th>\n",
       "      <td>0.160298</td>\n",
       "      <td>0.161247</td>\n",
       "      <td>1.000000</td>\n",
       "      <td>0.146838</td>\n",
       "      <td>0.171252</td>\n",
       "      <td>0.123079</td>\n",
       "      <td>0.106483</td>\n",
       "      <td>0.144186</td>\n",
       "      <td>0.110921</td>\n",
       "    </tr>\n",
       "    <tr>\n",
       "      <th>4.0</th>\n",
       "      <td>0.151876</td>\n",
       "      <td>0.138864</td>\n",
       "      <td>0.146838</td>\n",
       "      <td>1.000000</td>\n",
       "      <td>0.138358</td>\n",
       "      <td>0.107613</td>\n",
       "      <td>0.137265</td>\n",
       "      <td>0.113940</td>\n",
       "      <td>0.085090</td>\n",
       "    </tr>\n",
       "    <tr>\n",
       "      <th>5.0</th>\n",
       "      <td>0.128256</td>\n",
       "      <td>0.156243</td>\n",
       "      <td>0.171252</td>\n",
       "      <td>0.138358</td>\n",
       "      <td>1.000000</td>\n",
       "      <td>0.138263</td>\n",
       "      <td>0.205045</td>\n",
       "      <td>0.130159</td>\n",
       "      <td>0.137002</td>\n",
       "    </tr>\n",
       "    <tr>\n",
       "      <th>6.0</th>\n",
       "      <td>0.123804</td>\n",
       "      <td>0.123329</td>\n",
       "      <td>0.123079</td>\n",
       "      <td>0.107613</td>\n",
       "      <td>0.138263</td>\n",
       "      <td>1.000000</td>\n",
       "      <td>0.163259</td>\n",
       "      <td>0.171186</td>\n",
       "      <td>0.053083</td>\n",
       "    </tr>\n",
       "    <tr>\n",
       "      <th>7.0</th>\n",
       "      <td>0.150353</td>\n",
       "      <td>0.109134</td>\n",
       "      <td>0.106483</td>\n",
       "      <td>0.137265</td>\n",
       "      <td>0.205045</td>\n",
       "      <td>0.163259</td>\n",
       "      <td>1.000000</td>\n",
       "      <td>0.147238</td>\n",
       "      <td>0.131273</td>\n",
       "    </tr>\n",
       "    <tr>\n",
       "      <th>8.0</th>\n",
       "      <td>0.198005</td>\n",
       "      <td>0.137675</td>\n",
       "      <td>0.144186</td>\n",
       "      <td>0.113940</td>\n",
       "      <td>0.130159</td>\n",
       "      <td>0.171186</td>\n",
       "      <td>0.147238</td>\n",
       "      <td>1.000000</td>\n",
       "      <td>0.155895</td>\n",
       "    </tr>\n",
       "    <tr>\n",
       "      <th>9.0</th>\n",
       "      <td>0.171812</td>\n",
       "      <td>0.115137</td>\n",
       "      <td>0.110921</td>\n",
       "      <td>0.085090</td>\n",
       "      <td>0.137002</td>\n",
       "      <td>0.053083</td>\n",
       "      <td>0.131273</td>\n",
       "      <td>0.155895</td>\n",
       "      <td>1.000000</td>\n",
       "    </tr>\n",
       "  </tbody>\n",
       "</table>\n",
       "</div>"
      ],
      "text/plain": [
       "Order       1.0       2.0       3.0       4.0       5.0       6.0       7.0  \\\n",
       "Order                                                                         \n",
       "1.0    1.000000  0.141999  0.160298  0.151876  0.128256  0.123804  0.150353   \n",
       "2.0    0.141999  1.000000  0.161247  0.138864  0.156243  0.123329  0.109134   \n",
       "3.0    0.160298  0.161247  1.000000  0.146838  0.171252  0.123079  0.106483   \n",
       "4.0    0.151876  0.138864  0.146838  1.000000  0.138358  0.107613  0.137265   \n",
       "5.0    0.128256  0.156243  0.171252  0.138358  1.000000  0.138263  0.205045   \n",
       "6.0    0.123804  0.123329  0.123079  0.107613  0.138263  1.000000  0.163259   \n",
       "7.0    0.150353  0.109134  0.106483  0.137265  0.205045  0.163259  1.000000   \n",
       "8.0    0.198005  0.137675  0.144186  0.113940  0.130159  0.171186  0.147238   \n",
       "9.0    0.171812  0.115137  0.110921  0.085090  0.137002  0.053083  0.131273   \n",
       "\n",
       "Order       8.0       9.0  \n",
       "Order                      \n",
       "1.0    0.198005  0.171812  \n",
       "2.0    0.137675  0.115137  \n",
       "3.0    0.144186  0.110921  \n",
       "4.0    0.113940  0.085090  \n",
       "5.0    0.130159  0.137002  \n",
       "6.0    0.171186  0.053083  \n",
       "7.0    0.147238  0.131273  \n",
       "8.0    1.000000  0.155895  \n",
       "9.0    0.155895  1.000000  "
      ]
     },
     "execution_count": 19,
     "metadata": {},
     "output_type": "execute_result"
    }
   ],
   "source": [
    "corr"
   ]
  },
  {
   "cell_type": "code",
   "execution_count": 48,
   "id": "804b3350",
   "metadata": {},
   "outputs": [],
   "source": [
    "corr.to_csv(\"batting_order_corr.csv\")"
   ]
  },
  {
   "cell_type": "markdown",
   "id": "995af0fb",
   "metadata": {},
   "source": [
    "### Opposing Pitcher"
   ]
  },
  {
   "cell_type": "code",
   "execution_count": 28,
   "id": "2279def5",
   "metadata": {},
   "outputs": [],
   "source": [
    "pitchers = data[data[\"Position\"] == \"P\"]"
   ]
  },
  {
   "cell_type": "code",
   "execution_count": 43,
   "id": "5e617088",
   "metadata": {},
   "outputs": [],
   "source": [
    "batters = batters.merge(pitchers[[\"Player\", \"Date\", \"Scored\"]],\n",
    "                        left_on=[\"Date\", \"Opposing Pitcher\"],\n",
    "                        right_on=[\"Date\", \"Player\"],\n",
    "                        how=\"left\",\n",
    "                        suffixes=[None, \" Opposing\"]\n",
    "                       )"
   ]
  },
  {
   "cell_type": "code",
   "execution_count": 49,
   "id": "d42ac0a9",
   "metadata": {},
   "outputs": [],
   "source": [
    "corr = batters[[\"Scored\", \"Scored Opposing\"]].corr()"
   ]
  },
  {
   "cell_type": "code",
   "execution_count": 50,
   "id": "4e10912d",
   "metadata": {},
   "outputs": [
    {
     "data": {
      "text/html": [
       "<div>\n",
       "<style scoped>\n",
       "    .dataframe tbody tr th:only-of-type {\n",
       "        vertical-align: middle;\n",
       "    }\n",
       "\n",
       "    .dataframe tbody tr th {\n",
       "        vertical-align: top;\n",
       "    }\n",
       "\n",
       "    .dataframe thead th {\n",
       "        text-align: right;\n",
       "    }\n",
       "</style>\n",
       "<table border=\"1\" class=\"dataframe\">\n",
       "  <thead>\n",
       "    <tr style=\"text-align: right;\">\n",
       "      <th></th>\n",
       "      <th>Scored</th>\n",
       "      <th>Scored Opposing</th>\n",
       "    </tr>\n",
       "  </thead>\n",
       "  <tbody>\n",
       "    <tr>\n",
       "      <th>Scored</th>\n",
       "      <td>1.000000</td>\n",
       "      <td>-0.307066</td>\n",
       "    </tr>\n",
       "    <tr>\n",
       "      <th>Scored Opposing</th>\n",
       "      <td>-0.307066</td>\n",
       "      <td>1.000000</td>\n",
       "    </tr>\n",
       "  </tbody>\n",
       "</table>\n",
       "</div>"
      ],
      "text/plain": [
       "                   Scored  Scored Opposing\n",
       "Scored           1.000000        -0.307066\n",
       "Scored Opposing -0.307066         1.000000"
      ]
     },
     "execution_count": 50,
     "metadata": {},
     "output_type": "execute_result"
    }
   ],
   "source": [
    "corr"
   ]
  },
  {
   "cell_type": "code",
   "execution_count": 51,
   "id": "47bb02a0",
   "metadata": {},
   "outputs": [],
   "source": [
    "corr.to_csv(\"opp_pitcher_corr.csv\")"
   ]
  },
  {
   "cell_type": "code",
   "execution_count": null,
   "id": "54caec8f",
   "metadata": {},
   "outputs": [],
   "source": []
  }
 ],
 "metadata": {
  "kernelspec": {
   "display_name": "Python 3 (ipykernel)",
   "language": "python",
   "name": "python3"
  },
  "language_info": {
   "codemirror_mode": {
    "name": "ipython",
    "version": 3
   },
   "file_extension": ".py",
   "mimetype": "text/x-python",
   "name": "python",
   "nbconvert_exporter": "python",
   "pygments_lexer": "ipython3",
   "version": "3.8.10"
  }
 },
 "nbformat": 4,
 "nbformat_minor": 5
}
