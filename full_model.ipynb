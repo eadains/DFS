{
 "cells": [
  {
   "cell_type": "code",
   "execution_count": 1,
   "id": "357f31d0",
   "metadata": {},
   "outputs": [],
   "source": [
    "import pandas as pd\n",
    "import numpy as np\n",
    "from linestar import get_proj_data, get_historical_data\n",
    "\n",
    "import seaborn as sns"
   ]
  },
  {
   "cell_type": "code",
   "execution_count": 193,
   "id": "64a40450",
   "metadata": {
    "scrolled": true
   },
   "outputs": [
    {
     "name": "stderr",
     "output_type": "stream",
     "text": [
      "/home/eadains/DFS/linestar.py:53: GuessedAtParserWarning: No parser was explicitly specified, so I'm using the best available HTML parser for this system (\"lxml\"). This usually isn't a problem, but if you run this code on another system, or in a different virtual environment, it may use a different parser and behave differently.\n",
      "\n",
      "The code that caused this warning is on line 53 of the file /home/eadains/DFS/linestar.py. To get rid of this warning, pass the additional argument 'features=\"lxml\"' to the BeautifulSoup constructor.\n",
      "\n",
      "  soup = BeautifulSoup(html)\n"
     ]
    },
    {
     "ename": "AttributeError",
     "evalue": "'NoneType' object has no attribute 'get'",
     "output_type": "error",
     "traceback": [
      "\u001b[0;31m---------------------------------------------------------------------------\u001b[0m",
      "\u001b[0;31mAttributeError\u001b[0m                            Traceback (most recent call last)",
      "Input \u001b[0;32mIn [193]\u001b[0m, in \u001b[0;36m<cell line: 1>\u001b[0;34m()\u001b[0m\n\u001b[0;32m----> 1\u001b[0m data \u001b[38;5;241m=\u001b[39m \u001b[43mget_proj_data\u001b[49m\u001b[43m(\u001b[49m\u001b[43m)\u001b[49m\n",
      "File \u001b[0;32m~/DFS/linestar.py:115\u001b[0m, in \u001b[0;36mget_proj_data\u001b[0;34m()\u001b[0m\n\u001b[1;32m    114\u001b[0m \u001b[38;5;28;01mdef\u001b[39;00m \u001b[38;5;21mget_proj_data\u001b[39m():\n\u001b[0;32m--> 115\u001b[0m     data \u001b[38;5;241m=\u001b[39m \u001b[43mextract_linestar_data\u001b[49m\u001b[43m(\u001b[49m\u001b[38;5;124;43m\"\u001b[39;49m\u001b[38;5;124;43mproj.mhtml\u001b[39;49m\u001b[38;5;124;43m\"\u001b[39;49m\u001b[43m)\u001b[49m\n\u001b[1;32m    116\u001b[0m     \u001b[38;5;66;03m# Remove (R) and (L) from pitcher names\u001b[39;00m\n\u001b[1;32m    117\u001b[0m     data\u001b[38;5;241m.\u001b[39mloc[data[\u001b[38;5;124m\"\u001b[39m\u001b[38;5;124mPosition\u001b[39m\u001b[38;5;124m\"\u001b[39m] \u001b[38;5;241m==\u001b[39m \u001b[38;5;124m\"\u001b[39m\u001b[38;5;124mP\u001b[39m\u001b[38;5;124m\"\u001b[39m, \u001b[38;5;124m\"\u001b[39m\u001b[38;5;124mPlayer\u001b[39m\u001b[38;5;124m\"\u001b[39m] \u001b[38;5;241m=\u001b[39m data\u001b[38;5;241m.\u001b[39mloc[\n\u001b[1;32m    118\u001b[0m         data[\u001b[38;5;124m\"\u001b[39m\u001b[38;5;124mPosition\u001b[39m\u001b[38;5;124m\"\u001b[39m] \u001b[38;5;241m==\u001b[39m \u001b[38;5;124m\"\u001b[39m\u001b[38;5;124mP\u001b[39m\u001b[38;5;124m\"\u001b[39m, \u001b[38;5;124m\"\u001b[39m\u001b[38;5;124mPlayer\u001b[39m\u001b[38;5;124m\"\u001b[39m\n\u001b[1;32m    119\u001b[0m     ]\u001b[38;5;241m.\u001b[39mstr[:\u001b[38;5;241m-\u001b[39m\u001b[38;5;241m4\u001b[39m]\n",
      "File \u001b[0;32m~/DFS/linestar.py:58\u001b[0m, in \u001b[0;36mextract_linestar_data\u001b[0;34m(filename, dtype)\u001b[0m\n\u001b[1;32m     56\u001b[0m row_data \u001b[38;5;241m=\u001b[39m []\n\u001b[1;32m     57\u001b[0m \u001b[38;5;28;01mfor\u001b[39;00m row \u001b[38;5;129;01min\u001b[39;00m table\u001b[38;5;241m.\u001b[39mfind_all(\u001b[38;5;124m\"\u001b[39m\u001b[38;5;124mtr\u001b[39m\u001b[38;5;124m\"\u001b[39m, class_\u001b[38;5;241m=\u001b[39m\u001b[38;5;124m\"\u001b[39m\u001b[38;5;124mplayerCardRow\u001b[39m\u001b[38;5;124m\"\u001b[39m):\n\u001b[0;32m---> 58\u001b[0m     row_data\u001b[38;5;241m.\u001b[39mappend(\u001b[43mextract_row_data\u001b[49m\u001b[43m(\u001b[49m\u001b[43mrow\u001b[49m\u001b[43m,\u001b[49m\u001b[43m \u001b[49m\u001b[43mdtype\u001b[49m\u001b[43m)\u001b[49m)\n\u001b[1;32m     60\u001b[0m \u001b[38;5;28;01mreturn\u001b[39;00m pd\u001b[38;5;241m.\u001b[39mDataFrame(row_data)\n",
      "File \u001b[0;32m~/DFS/linestar.py:19\u001b[0m, in \u001b[0;36mextract_row_data\u001b[0;34m(row, dtype)\u001b[0m\n\u001b[1;32m      8\u001b[0m cells \u001b[38;5;241m=\u001b[39m row\u001b[38;5;241m.\u001b[39mfind_all(\u001b[38;5;124m\"\u001b[39m\u001b[38;5;124mtd\u001b[39m\u001b[38;5;124m\"\u001b[39m)\n\u001b[1;32m      9\u001b[0m \u001b[38;5;28;01mif\u001b[39;00m dtype \u001b[38;5;241m==\u001b[39m \u001b[38;5;124m\"\u001b[39m\u001b[38;5;124mcurrent\u001b[39m\u001b[38;5;124m\"\u001b[39m:\n\u001b[1;32m     10\u001b[0m     \u001b[38;5;28;01mreturn\u001b[39;00m {\n\u001b[1;32m     11\u001b[0m         \u001b[38;5;124m\"\u001b[39m\u001b[38;5;124mPlayer\u001b[39m\u001b[38;5;124m\"\u001b[39m: cells[\u001b[38;5;241m5\u001b[39m]\u001b[38;5;241m.\u001b[39mfind(class_\u001b[38;5;241m=\u001b[39m\u001b[38;5;124m\"\u001b[39m\u001b[38;5;124mplayername\u001b[39m\u001b[38;5;124m\"\u001b[39m)\u001b[38;5;241m.\u001b[39mtext,\n\u001b[1;32m     12\u001b[0m         \u001b[38;5;124m\"\u001b[39m\u001b[38;5;124mPosition\u001b[39m\u001b[38;5;124m\"\u001b[39m: cells[\u001b[38;5;241m4\u001b[39m]\u001b[38;5;241m.\u001b[39mtext,\n\u001b[1;32m     13\u001b[0m         \u001b[38;5;66;03m# Some teams only have two characters, causing an extra space\u001b[39;00m\n\u001b[1;32m     14\u001b[0m         \u001b[38;5;66;03m# at the start, so strip that\u001b[39;00m\n\u001b[1;32m     15\u001b[0m         \u001b[38;5;124m\"\u001b[39m\u001b[38;5;124mTeam\u001b[39m\u001b[38;5;124m\"\u001b[39m: cells[\u001b[38;5;241m5\u001b[39m]\u001b[38;5;241m.\u001b[39mfind(class_\u001b[38;5;241m=\u001b[39m\u001b[38;5;124m\"\u001b[39m\u001b[38;5;124mplayerTeam\u001b[39m\u001b[38;5;124m\"\u001b[39m)\u001b[38;5;241m.\u001b[39mtext[\u001b[38;5;241m-\u001b[39m\u001b[38;5;241m3\u001b[39m:]\u001b[38;5;241m.\u001b[39mstrip(),\n\u001b[1;32m     16\u001b[0m         \u001b[38;5;124m\"\u001b[39m\u001b[38;5;124mOpponent\u001b[39m\u001b[38;5;124m\"\u001b[39m: cells[\u001b[38;5;241m13\u001b[39m]\u001b[38;5;241m.\u001b[39mtext,\n\u001b[1;32m     17\u001b[0m         \u001b[38;5;124m\"\u001b[39m\u001b[38;5;124mOrder\u001b[39m\u001b[38;5;124m\"\u001b[39m: cells[\u001b[38;5;241m15\u001b[39m]\u001b[38;5;241m.\u001b[39mtext,\n\u001b[1;32m     18\u001b[0m         \u001b[38;5;124m\"\u001b[39m\u001b[38;5;124mSalary\u001b[39m\u001b[38;5;124m\"\u001b[39m: cells[\u001b[38;5;241m9\u001b[39m]\u001b[38;5;241m.\u001b[39mtext,\n\u001b[0;32m---> 19\u001b[0m         \u001b[38;5;124m\"\u001b[39m\u001b[38;5;124mProjection\u001b[39m\u001b[38;5;124m\"\u001b[39m: \u001b[43mcells\u001b[49m\u001b[43m[\u001b[49m\u001b[38;5;241;43m10\u001b[39;49m\u001b[43m]\u001b[49m\u001b[38;5;241;43m.\u001b[39;49m\u001b[43mfind\u001b[49m\u001b[43m(\u001b[49m\u001b[38;5;124;43m\"\u001b[39;49m\u001b[38;5;124;43minput\u001b[39;49m\u001b[38;5;124;43m\"\u001b[39;49m\u001b[43m)\u001b[49m\u001b[38;5;241;43m.\u001b[39;49m\u001b[43mget\u001b[49m(\u001b[38;5;124m\"\u001b[39m\u001b[38;5;124mvalue\u001b[39m\u001b[38;5;124m\"\u001b[39m),\n\u001b[1;32m     20\u001b[0m         \u001b[38;5;124m\"\u001b[39m\u001b[38;5;124mpOwn\u001b[39m\u001b[38;5;124m\"\u001b[39m: cells[\u001b[38;5;241m24\u001b[39m]\u001b[38;5;241m.\u001b[39mtext,\n\u001b[1;32m     21\u001b[0m     }\n\u001b[1;32m     22\u001b[0m \u001b[38;5;28;01melif\u001b[39;00m dtype \u001b[38;5;241m==\u001b[39m \u001b[38;5;124m\"\u001b[39m\u001b[38;5;124mhistorical\u001b[39m\u001b[38;5;124m\"\u001b[39m:\n\u001b[1;32m     23\u001b[0m     \u001b[38;5;66;03m# TODO: get points actually scored\u001b[39;00m\n\u001b[1;32m     24\u001b[0m     \u001b[38;5;28;01mreturn\u001b[39;00m {\n\u001b[1;32m     25\u001b[0m         \u001b[38;5;124m\"\u001b[39m\u001b[38;5;124mPlayer\u001b[39m\u001b[38;5;124m\"\u001b[39m: cells[\u001b[38;5;241m5\u001b[39m]\u001b[38;5;241m.\u001b[39mfind(class_\u001b[38;5;241m=\u001b[39m\u001b[38;5;124m\"\u001b[39m\u001b[38;5;124mplayername\u001b[39m\u001b[38;5;124m\"\u001b[39m)\u001b[38;5;241m.\u001b[39mtext,\n\u001b[1;32m     26\u001b[0m         \u001b[38;5;124m\"\u001b[39m\u001b[38;5;124mPosition\u001b[39m\u001b[38;5;124m\"\u001b[39m: cells[\u001b[38;5;241m4\u001b[39m]\u001b[38;5;241m.\u001b[39mtext,\n\u001b[0;32m   (...)\u001b[0m\n\u001b[1;32m     46\u001b[0m         \u001b[38;5;124m\"\u001b[39m\u001b[38;5;124mSafety\u001b[39m\u001b[38;5;124m\"\u001b[39m: cells[\u001b[38;5;241m28\u001b[39m]\u001b[38;5;241m.\u001b[39mtext,\n\u001b[1;32m     47\u001b[0m     }\n",
      "\u001b[0;31mAttributeError\u001b[0m: 'NoneType' object has no attribute 'get'"
     ]
    }
   ],
   "source": [
    "data = get_proj_data()"
   ]
  },
  {
   "cell_type": "code",
   "execution_count": 2,
   "id": "c51b2ac8",
   "metadata": {},
   "outputs": [
    {
     "name": "stderr",
     "output_type": "stream",
     "text": [
      "/home/eadains/DFS/linestar.py:53: GuessedAtParserWarning: No parser was explicitly specified, so I'm using the best available HTML parser for this system (\"lxml\"). This usually isn't a problem, but if you run this code on another system, or in a different virtual environment, it may use a different parser and behave differently.\n",
      "\n",
      "The code that caused this warning is on line 53 of the file /home/eadains/DFS/linestar.py. To get rid of this warning, pass the additional argument 'features=\"lxml\"' to the BeautifulSoup constructor.\n",
      "\n",
      "  soup = BeautifulSoup(html)\n"
     ]
    }
   ],
   "source": [
    "data = get_historical_data(\"2022-05-19\")"
   ]
  },
  {
   "cell_type": "markdown",
   "id": "4976d19e",
   "metadata": {},
   "source": [
    "# Correlation Matrix"
   ]
  },
  {
   "cell_type": "code",
   "execution_count": 4,
   "id": "5a58565d",
   "metadata": {
    "scrolled": true
   },
   "outputs": [],
   "source": [
    "bat_ord_corr = pd.read_csv(\"./data/batting_order_corr.csv\", index_col=\"Order\")\n",
    "bat_ord_corr.columns = bat_ord_corr.columns.astype(float)\n",
    "opp_pitcher_corr = pd.read_csv(\"./data/opp_pitcher_corr.csv\", index_col=0)\n",
    "opp_pitcher_corr = opp_pitcher_corr.loc[\"Scored\", \"Scored Opposing\"]\n",
    "\n",
    "corr = pd.DataFrame(columns=data[\"Player\"], index=data[\"Player\"], dtype=float)"
   ]
  },
  {
   "cell_type": "code",
   "execution_count": 6,
   "id": "97fb1bdc",
   "metadata": {},
   "outputs": [],
   "source": [
    "for row in data.itertuples():\n",
    "    # Correlation with themselves is 1\n",
    "    corr.loc[row.Player, row.Player] = 1\n",
    "\n",
    "    # If pitcher, set correlation to everyone else to 0\n",
    "    if row.Position == \"P\":\n",
    "        corr.loc[row.Player, corr.columns != row.Player] = 0\n",
    "\n",
    "    else:\n",
    "        # Setting correlation to other batters on the same team according to\n",
    "        # batting order\n",
    "        for teammate in data.loc[data[\"Team\"] == row.Team, :].itertuples():\n",
    "            # If the teammate is the pitcher, then 0 correlation\n",
    "            if teammate.Position == \"P\":\n",
    "                corr.loc[row.Player, teammate.Player] = 0\n",
    "                corr.loc[teammate.Player, row.Player] = 0\n",
    "            else:\n",
    "                order_corr = bat_ord_corr.loc[row.Order, teammate.Order]\n",
    "                corr.loc[row.Player, teammate.Player] = order_corr\n",
    "                corr.loc[teammate.Player, row.Player] = order_corr\n",
    "\n",
    "        # Set correlation to opposing pitcher\n",
    "        corr.loc[row.Player, row.Opp_Pitcher] = opp_pitcher_corr\n",
    "        corr.loc[row.Opp_Pitcher, row.Player] = opp_pitcher_corr\n",
    "        # Correlations with every other player is 0\n",
    "        corr.loc[row.Player, corr.loc[row.Player].isna()] = 0"
   ]
  },
  {
   "cell_type": "code",
   "execution_count": 7,
   "id": "bfe3ce3f",
   "metadata": {},
   "outputs": [
    {
     "data": {
      "text/plain": [
       "True"
      ]
     },
     "execution_count": 7,
     "metadata": {},
     "output_type": "execute_result"
    }
   ],
   "source": [
    "# Check that the correlation matrix is symmetric and all its eigvenvalues are >= 0\n",
    "# These two conditions jointly imply the matrix is positive semi-definite\n",
    "np.array_equal(corr, corr.T) & np.all(np.linalg.eigvals(corr) >= 0)"
   ]
  },
  {
   "cell_type": "markdown",
   "id": "7d7d5a3a",
   "metadata": {},
   "source": [
    "# Standard Deviation"
   ]
  },
  {
   "cell_type": "code",
   "execution_count": 53,
   "id": "c0b54dd0",
   "metadata": {},
   "outputs": [],
   "source": [
    "historical = pd.read_csv(\"./data/linestar_data.csv\")\n",
    "hist_std = historical.groupby(\"Player\").std()[\"Scored\"]\n",
    "\n",
    "# Default standard deviations for players with missing values\n",
    "default_pitcher_std = 15\n",
    "default_other_std = 10\n",
    "\n",
    "# Get historical standard deviation of scored points for players\n",
    "# on the current slate\n",
    "hist_std = hist_std.loc[data[\"Player\"]]\n",
    "\n",
    "for player in hist_std[hist_std.isna()].index:\n",
    "    player_position = data.loc[data[\"Player\"] == player, \"Position\"].values[0]\n",
    "    if player_position == \"P\":\n",
    "        hist_std.loc[player] = default_pitcher_std\n",
    "    else:\n",
    "        hist_std.loc[player] = default_other_std"
   ]
  },
  {
   "cell_type": "markdown",
   "id": "6813c434",
   "metadata": {},
   "source": [
    "# Score Distribution"
   ]
  },
  {
   "cell_type": "code",
   "execution_count": 73,
   "id": "eed219cf",
   "metadata": {},
   "outputs": [],
   "source": [
    "cov = np.diag(hist_std) @ corr @ np.diag(hist_std)"
   ]
  },
  {
   "cell_type": "code",
   "execution_count": null,
   "id": "427610b3",
   "metadata": {},
   "outputs": [],
   "source": []
  }
 ],
 "metadata": {
  "kernelspec": {
   "display_name": "Python 3 (ipykernel)",
   "language": "python",
   "name": "python3"
  },
  "language_info": {
   "codemirror_mode": {
    "name": "ipython",
    "version": 3
   },
   "file_extension": ".py",
   "mimetype": "text/x-python",
   "name": "python",
   "nbconvert_exporter": "python",
   "pygments_lexer": "ipython3",
   "version": "3.8.10"
  }
 },
 "nbformat": 4,
 "nbformat_minor": 5
}
