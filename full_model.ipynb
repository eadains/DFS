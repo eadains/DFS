{
 "cells": [
  {
   "cell_type": "code",
   "execution_count": 1,
   "id": "357f31d0",
   "metadata": {},
   "outputs": [],
   "source": [
    "import pandas as pd\n",
    "import numpy as np\n",
    "from linestar import get_proj_data, get_historical_data, OpponentTeams\n",
    "import cvxpy\n",
    "\n",
    "rng = np.random.default_rng()"
   ]
  },
  {
   "cell_type": "code",
   "execution_count": 2,
   "id": "64a40450",
   "metadata": {
    "scrolled": true
   },
   "outputs": [],
   "source": [
    "#data = get_proj_data()"
   ]
  },
  {
   "cell_type": "code",
   "execution_count": 3,
   "id": "c51b2ac8",
   "metadata": {},
   "outputs": [
    {
     "name": "stderr",
     "output_type": "stream",
     "text": [
      "/home/eadains/DFS/linestar.py:53: GuessedAtParserWarning: No parser was explicitly specified, so I'm using the best available HTML parser for this system (\"html.parser\"). This usually isn't a problem, but if you run this code on another system, or in a different virtual environment, it may use a different parser and behave differently.\n",
      "\n",
      "The code that caused this warning is on line 53 of the file /home/eadains/DFS/linestar.py. To get rid of this warning, pass the additional argument 'features=\"html.parser\"' to the BeautifulSoup constructor.\n",
      "\n",
      "  soup = BeautifulSoup(html)\n"
     ]
    }
   ],
   "source": [
    "slate = get_historical_data(\"2022-05-19\")"
   ]
  },
  {
   "cell_type": "markdown",
   "id": "4976d19e",
   "metadata": {},
   "source": [
    "# Correlation Matrix"
   ]
  },
  {
   "cell_type": "code",
   "execution_count": 4,
   "id": "5a58565d",
   "metadata": {
    "scrolled": true
   },
   "outputs": [],
   "source": [
    "bat_ord_corr = pd.read_csv(\"./data/batting_order_corr.csv\", index_col=\"Order\")\n",
    "bat_ord_corr.columns = bat_ord_corr.columns.astype(float)\n",
    "opp_pitcher_corr = pd.read_csv(\"./data/opp_pitcher_corr.csv\", index_col=0)\n",
    "opp_pitcher_corr = opp_pitcher_corr.loc[\"Scored\", \"Scored Opposing\"]\n",
    "\n",
    "corr = pd.DataFrame(columns=slate[\"Player\"], index=slate[\"Player\"], dtype=float)"
   ]
  },
  {
   "cell_type": "code",
   "execution_count": 5,
   "id": "97fb1bdc",
   "metadata": {},
   "outputs": [],
   "source": [
    "for row in slate.itertuples():\n",
    "    # Correlation with themselves is 1\n",
    "    corr.loc[row.Player, row.Player] = 1\n",
    "\n",
    "    # If pitcher, set correlation to everyone else to 0\n",
    "    if row.Position == \"P\":\n",
    "        corr.loc[row.Player, corr.columns != row.Player] = 0\n",
    "\n",
    "    else:\n",
    "        # Setting correlation to other batters on the same team according to\n",
    "        # batting order\n",
    "        for teammate in slate.loc[slate[\"Team\"] == row.Team, :].itertuples():\n",
    "            # If the teammate is the pitcher, then 0 correlation\n",
    "            if teammate.Position == \"P\":\n",
    "                corr.loc[row.Player, teammate.Player] = 0\n",
    "                corr.loc[teammate.Player, row.Player] = 0\n",
    "            else:\n",
    "                order_corr = bat_ord_corr.loc[row.Order, teammate.Order]\n",
    "                corr.loc[row.Player, teammate.Player] = order_corr\n",
    "                corr.loc[teammate.Player, row.Player] = order_corr\n",
    "\n",
    "        # Set correlation to opposing pitcher\n",
    "        corr.loc[row.Player, row.Opp_Pitcher] = opp_pitcher_corr\n",
    "        corr.loc[row.Opp_Pitcher, row.Player] = opp_pitcher_corr\n",
    "        # Correlations with every other player is 0\n",
    "        corr.loc[row.Player, corr.loc[row.Player].isna()] = 0"
   ]
  },
  {
   "cell_type": "code",
   "execution_count": 6,
   "id": "bfe3ce3f",
   "metadata": {},
   "outputs": [
    {
     "data": {
      "text/plain": [
       "True"
      ]
     },
     "execution_count": 6,
     "metadata": {},
     "output_type": "execute_result"
    }
   ],
   "source": [
    "# Check that the correlation matrix is symmetric and all its eigvenvalues are >= 0\n",
    "# These two conditions jointly imply the matrix is positive semi-definite\n",
    "np.array_equal(corr, corr.T) & np.all(np.linalg.eigvals(corr) >= 0)"
   ]
  },
  {
   "cell_type": "markdown",
   "id": "7d7d5a3a",
   "metadata": {},
   "source": [
    "# Standard Deviation"
   ]
  },
  {
   "cell_type": "code",
   "execution_count": 7,
   "id": "c0b54dd0",
   "metadata": {},
   "outputs": [],
   "source": [
    "historical = pd.read_csv(\"./data/linestar_data.csv\")\n",
    "hist_std = historical.groupby(\"Player\").std()[\"Scored\"]\n",
    "\n",
    "# Default standard deviations for players with missing values\n",
    "default_pitcher_std = 15\n",
    "default_other_std = 10\n",
    "\n",
    "# Get historical standard deviation of scored points for players\n",
    "# on the current slate\n",
    "hist_std = hist_std.loc[slate[\"Player\"]]\n",
    "\n",
    "for player in hist_std[hist_std.isna()].index:\n",
    "    player_position = slate.loc[slate[\"Player\"] == player, \"Position\"].values[0]\n",
    "    if player_position == \"P\":\n",
    "        hist_std.loc[player] = default_pitcher_std\n",
    "    else:\n",
    "        hist_std.loc[player] = default_other_std"
   ]
  },
  {
   "cell_type": "markdown",
   "id": "6813c434",
   "metadata": {},
   "source": [
    "# Score Distribution"
   ]
  },
  {
   "cell_type": "code",
   "execution_count": 8,
   "id": "eed219cf",
   "metadata": {},
   "outputs": [],
   "source": [
    "mean = slate[\"Consensus\"]\n",
    "cov = np.diag(hist_std) @ corr @ np.diag(hist_std)\n",
    "\n",
    "opps = OpponentTeams(slate)"
   ]
  },
  {
   "cell_type": "code",
   "execution_count": 9,
   "id": "1a585a36",
   "metadata": {},
   "outputs": [],
   "source": [
    "results = []\n",
    "for x in range(100):\n",
    "    sample = rng.multivariate_normal(mean, cov)\n",
    "    order_stat = opps.get_order_stat(sample, 50, 99)\n",
    "    results.append((sample, order_stat))"
   ]
  },
  {
   "cell_type": "code",
   "execution_count": 10,
   "id": "e9ee9562",
   "metadata": {},
   "outputs": [],
   "source": [
    "mu_g = np.mean([x[1] for x in results])\n",
    "var_g = np.var([x[1] for x in results])\n",
    "\n",
    "cov_g = []\n",
    "for n in range(len(mean)):\n",
    "    order_stat_cov = np.cov([x[0][n] for x in results], [x[1] for x in results])\n",
    "    cov_g.append(order_stat_cov[0, 1])\n",
    "cov_g = np.array(cov_g)"
   ]
  },
  {
   "cell_type": "markdown",
   "id": "11d03437",
   "metadata": {},
   "source": [
    "# Optimization"
   ]
  },
  {
   "cell_type": "code",
   "execution_count": 11,
   "id": "5a4d2fca",
   "metadata": {},
   "outputs": [],
   "source": [
    "pos_mat = opps.pos_mat\n",
    "teams = opps.teams\n",
    "games = opps.games"
   ]
  },
  {
   "cell_type": "code",
   "execution_count": 37,
   "id": "6f4a0560",
   "metadata": {},
   "outputs": [],
   "source": [
    "selection = cvxpy.Variable(len(slate), boolean=True)\n",
    "teams_var = cvxpy.Variable(len(teams.columns), boolean=True)\n",
    "games_var = cvxpy.Variable(len(games.columns), boolean=True)\n",
    "lambda_param = cvxpy.Parameter(nonneg=True)\n",
    "\n",
    "# Total salary must be less than or equal to $35,000\n",
    "salary = selection @ slate[\"Salary\"] <= 35000\n",
    "\n",
    "# Must select players from at least 3 different teams\n",
    "teams_var_con = teams_var <= selection @ teams\n",
    "teams_con = cvxpy.sum(teams_var) >= 3\n",
    "\n",
    "# Must select players from at least 2 different games\n",
    "games_var_con = games_var <= selection @ games\n",
    "games_con = cvxpy.sum(games_var) >= 2\n",
    "\n",
    "# No more than 4 players, not counting the pitcher, can be selected from the same team\n",
    "# First term is our selected players multiplied by a boolean array where 1's indicate non-pitcher players.\n",
    "# This filters the selected players so the constraint only applies to non-pitcher players\n",
    "players_teams = cvxpy.multiply(selection, (~pos_mat[\"P\"].astype(bool)).astype(int)) @ teams <= 4\n",
    "\n",
    "# Must have 9 players selected\n",
    "total_players = cvxpy.sum(selection) == 9\n",
    "\n",
    "# Max and min number of players we can select for each position\n",
    "# Must always have 1 pitcher, who cannot fill the UTIL position\n",
    "# We can select up to 1 additional player from each other position because\n",
    "# the second can fill the UTIL position\n",
    "positions_max = [1, 2, 2, 2, 2, 4]\n",
    "positions_min = [1, 1, 1, 1, 1, 3]\n",
    "positions_max_con = selection @ pos_mat <= positions_max\n",
    "positions_min_con = selection @ pos_mat >= positions_min\n",
    "\n",
    "mu_w = selection @ slate[\"Consensus\"] - mu_g\n",
    "sigma_w = cvxpy.quad_form(selection, cov) + var_g - 2 * selection @ cov_g\n",
    "obj = mu_w - lambda_param * sigma_w"
   ]
  },
  {
   "cell_type": "code",
   "execution_count": 48,
   "id": "8a70adbd",
   "metadata": {},
   "outputs": [
    {
     "name": "stdout",
     "output_type": "stream",
     "text": [
      "===============================================================================\n",
      "                                     CVXPY                                     \n",
      "                                     v1.2.1                                    \n",
      "===============================================================================\n",
      "(CVXPY) May 26 03:22:38 PM: Your problem has 69 variables, 9 constraints, and 1 parameters.\n",
      "(CVXPY) May 26 03:22:38 PM: It is compliant with the following grammars: DCP, DQCP\n",
      "(CVXPY) May 26 03:22:38 PM: CVXPY will first compile your problem; then, it will invoke a numerical solver to obtain a solution.\n",
      "-------------------------------------------------------------------------------\n",
      "                                  Compilation                                  \n",
      "-------------------------------------------------------------------------------\n",
      "(CVXPY) May 26 03:22:38 PM: Compiling problem (target solver=SCIP).\n",
      "(CVXPY) May 26 03:22:38 PM: Reduction chain: FlipObjective -> Dcp2Cone -> CvxAttr2Constr -> ConeMatrixStuffing -> SCIP\n",
      "(CVXPY) May 26 03:22:38 PM: Applying reduction FlipObjective\n",
      "(CVXPY) May 26 03:22:38 PM: Applying reduction Dcp2Cone\n",
      "(CVXPY) May 26 03:22:38 PM: Applying reduction CvxAttr2Constr\n",
      "(CVXPY) May 26 03:22:38 PM: Applying reduction ConeMatrixStuffing\n",
      "(CVXPY) May 26 03:22:38 PM: Applying reduction SCIP\n",
      "(CVXPY) May 26 03:22:38 PM: Finished problem compilation (took 3.927e-02 seconds).\n",
      "(CVXPY) May 26 03:22:38 PM: (Subsequent compilations of this problem, using the same arguments, should take less time.)\n",
      "-------------------------------------------------------------------------------\n",
      "                                Numerical solver                               \n",
      "-------------------------------------------------------------------------------\n",
      "(CVXPY) May 26 03:22:38 PM: Invoking solver SCIP  to obtain a solution.\n",
      "presolving:\n",
      "   (0.0s) symmetry computation skipped: there exist constraints that cannot be handled by symmetry methods.\n",
      "presolving (0 rounds: 0 fast, 0 medium, 0 exhaustive):\n",
      " 0 deleted vars, 0 deleted constraints, 0 added constraints, 0 tightened bounds, 0 added holes, 0 changed sides, 0 changed coefficients\n",
      " 0 implications, 0 cliques\n",
      "presolved problem has 132 variables (69 bin, 0 int, 0 impl, 63 cont) and 94 constraints\n",
      "     93 constraints of type <linear>\n",
      "      1 constraints of type <quadratic>\n",
      "Presolving Time: 0.00\n",
      "\n",
      " time | node  | left  |LP iter|LP it/n|mem/heur|mdpt |vars |cons |rows |cuts |sepa|confs|strbr|  dualbound   | primalbound  |  gap   | compl. \n",
      "  0.0s|     1 |     0 |    18 |     - |  1454k |   0 | 132 |  94 |  93 |   0 |  0 |   0 |   0 |-1.408642e+02 |      --      |    Inf | unknown\n",
      "  0.0s|     1 |     0 |    19 |     - |  1532k |   0 | 132 |  94 |  94 |   1 |  1 |   0 |   0 |-1.408547e+02 |      --      |    Inf | unknown\n",
      "  0.0s|     1 |     0 |    21 |     - |  1558k |   0 | 132 |  94 |  95 |   2 |  2 |   0 |   0 |-1.407728e+02 |      --      |    Inf | unknown\n",
      "  0.0s|     1 |     0 |    23 |     - |  1588k |   0 | 132 |  94 |  96 |   3 |  3 |   0 |   0 |-1.407523e+02 |      --      |    Inf | unknown\n",
      "  0.0s|     1 |     0 |    28 |     - |  1639k |   0 | 132 |  94 |  97 |   4 |  4 |   0 |   0 |-1.405787e+02 |      --      |    Inf | unknown\n",
      "  0.0s|     1 |     0 |    29 |     - |  1688k |   0 | 132 |  94 |  98 |   5 |  5 |   0 |   0 |-1.405780e+02 |      --      |    Inf | unknown\n",
      "  0.0s|     1 |     0 |    35 |     - |  1730k |   0 | 132 |  94 |  99 |   6 |  6 |   0 |   0 |-1.405605e+02 |      --      |    Inf | unknown\n",
      "  0.0s|     1 |     0 |    39 |     - |  1816k |   0 | 132 |  94 | 100 |   7 |  8 |   0 |   0 |-1.405289e+02 |      --      |    Inf | unknown\n",
      "  0.0s|     1 |     0 |    40 |     - |  1885k |   0 | 132 |  94 | 101 |   8 |  9 |   0 |   0 |-1.405279e+02 |      --      |    Inf | unknown\n",
      "  0.0s|     1 |     2 |    43 |     - |  1998k |   0 | 132 |  94 | 101 |   8 | 11 |   0 |  11 |-1.404800e+02 |      --      |    Inf | unknown\n",
      "Starting spatial branch-and-bound on unbounded variable <t_soc_t_32> ([-1e+20,2]) - cannot guarantee finite termination.\n",
      "  0.1s|   100 |    69 |   284 |   2.5 |  2478k |  17 | 132 | 118 |  99 |  12 |  1 |  28 |  89 |-1.404509e+02 |      --      |    Inf |   3.54%\n",
      "  0.1s|   200 |   139 |   632 |   3.0 |  3017k |  22 | 132 | 144 |  99 |  57 |  1 |  58 | 122 |-1.403487e+02 |      --      |    Inf |   7.87%\n",
      "* 0.1s|   282 |   191 |   860 |   2.9 |    LP  |  22 | 132 | 167 |  99 |  70 |  1 |  81 | 133 |-1.403487e+02 |-1.115615e+02 |  25.80%|   8.26%\n",
      "  0.2s|   300 |   207 |   948 |   3.0 |  3863k |  22 | 132 | 168 |  99 |  99 |  1 |  82 | 137 |-1.403487e+02 |-1.115615e+02 |  25.80%|   3.04%\n",
      "  0.2s|   400 |   293 |  1238 |   3.0 |  4205k |  24 | 132 | 180 |  99 | 113 |  1 |  94 | 156 |-1.403487e+02 |-1.115615e+02 |  25.80%|   4.20%\n",
      " time | node  | left  |LP iter|LP it/n|mem/heur|mdpt |vars |cons |rows |cuts |sepa|confs|strbr|  dualbound   | primalbound  |  gap   | compl. \n",
      "  0.2s|   500 |   361 |  1594 |   3.1 |  4"
     ]
    },
    {
     "ename": "KeyboardInterrupt",
     "evalue": "",
     "output_type": "error",
     "traceback": [
      "\u001b[0;31m---------------------------------------------------------------------------\u001b[0m",
      "\u001b[0;31mKeyboardInterrupt\u001b[0m                         Traceback (most recent call last)",
      "Input \u001b[0;32mIn [48]\u001b[0m, in \u001b[0;36m<cell line: 11>\u001b[0;34m()\u001b[0m\n\u001b[1;32m      1\u001b[0m constraints \u001b[38;5;241m=\u001b[39m [salary,\n\u001b[1;32m      2\u001b[0m                teams_var_con,\n\u001b[1;32m      3\u001b[0m                teams_con,\n\u001b[0;32m   (...)\u001b[0m\n\u001b[1;32m      8\u001b[0m                positions_max_con,\n\u001b[1;32m      9\u001b[0m                positions_min_con]\n\u001b[1;32m     10\u001b[0m problem \u001b[38;5;241m=\u001b[39m cvxpy\u001b[38;5;241m.\u001b[39mProblem(cvxpy\u001b[38;5;241m.\u001b[39mMaximize(obj), constraints\u001b[38;5;241m=\u001b[39mconstraints)\n\u001b[0;32m---> 11\u001b[0m \u001b[43mproblem\u001b[49m\u001b[38;5;241;43m.\u001b[39;49m\u001b[43msolve\u001b[49m\u001b[43m(\u001b[49m\u001b[43msolver\u001b[49m\u001b[38;5;241;43m=\u001b[39;49m\u001b[43mcvxpy\u001b[49m\u001b[38;5;241;43m.\u001b[39;49m\u001b[43mSCIP\u001b[49m\u001b[43m,\u001b[49m\u001b[43m \u001b[49m\u001b[43mverbose\u001b[49m\u001b[38;5;241;43m=\u001b[39;49m\u001b[38;5;28;43;01mTrue\u001b[39;49;00m\u001b[43m)\u001b[49m\n",
      "File \u001b[0;32m~/miniconda3/envs/DFS/lib/python3.9/site-packages/cvxpy/problems/problem.py:481\u001b[0m, in \u001b[0;36mProblem.solve\u001b[0;34m(self, *args, **kwargs)\u001b[0m\n\u001b[1;32m    479\u001b[0m \u001b[38;5;28;01melse\u001b[39;00m:\n\u001b[1;32m    480\u001b[0m     solve_func \u001b[38;5;241m=\u001b[39m Problem\u001b[38;5;241m.\u001b[39m_solve\n\u001b[0;32m--> 481\u001b[0m \u001b[38;5;28;01mreturn\u001b[39;00m \u001b[43msolve_func\u001b[49m\u001b[43m(\u001b[49m\u001b[38;5;28;43mself\u001b[39;49m\u001b[43m,\u001b[49m\u001b[43m \u001b[49m\u001b[38;5;241;43m*\u001b[39;49m\u001b[43margs\u001b[49m\u001b[43m,\u001b[49m\u001b[43m \u001b[49m\u001b[38;5;241;43m*\u001b[39;49m\u001b[38;5;241;43m*\u001b[39;49m\u001b[43mkwargs\u001b[49m\u001b[43m)\u001b[49m\n",
      "File \u001b[0;32m~/miniconda3/envs/DFS/lib/python3.9/site-packages/cvxpy/problems/problem.py:1016\u001b[0m, in \u001b[0;36mProblem._solve\u001b[0;34m(self, solver, warm_start, verbose, gp, qcp, requires_grad, enforce_dpp, ignore_dpp, **kwargs)\u001b[0m\n\u001b[1;32m   1012\u001b[0m     s\u001b[38;5;241m.\u001b[39mLOGGER\u001b[38;5;241m.\u001b[39minfo(\n\u001b[1;32m   1013\u001b[0m             \u001b[38;5;124m'\u001b[39m\u001b[38;5;124mInvoking solver \u001b[39m\u001b[38;5;132;01m%s\u001b[39;00m\u001b[38;5;124m  to obtain a solution.\u001b[39m\u001b[38;5;124m'\u001b[39m,\n\u001b[1;32m   1014\u001b[0m             solving_chain\u001b[38;5;241m.\u001b[39mreductions[\u001b[38;5;241m-\u001b[39m\u001b[38;5;241m1\u001b[39m]\u001b[38;5;241m.\u001b[39mname())\n\u001b[1;32m   1015\u001b[0m start \u001b[38;5;241m=\u001b[39m time\u001b[38;5;241m.\u001b[39mtime()\n\u001b[0;32m-> 1016\u001b[0m solution \u001b[38;5;241m=\u001b[39m \u001b[43msolving_chain\u001b[49m\u001b[38;5;241;43m.\u001b[39;49m\u001b[43msolve_via_data\u001b[49m\u001b[43m(\u001b[49m\n\u001b[1;32m   1017\u001b[0m \u001b[43m    \u001b[49m\u001b[38;5;28;43mself\u001b[39;49m\u001b[43m,\u001b[49m\u001b[43m \u001b[49m\u001b[43mdata\u001b[49m\u001b[43m,\u001b[49m\u001b[43m \u001b[49m\u001b[43mwarm_start\u001b[49m\u001b[43m,\u001b[49m\u001b[43m \u001b[49m\u001b[43mverbose\u001b[49m\u001b[43m,\u001b[49m\u001b[43m \u001b[49m\u001b[43mkwargs\u001b[49m\u001b[43m)\u001b[49m\n\u001b[1;32m   1018\u001b[0m end \u001b[38;5;241m=\u001b[39m time\u001b[38;5;241m.\u001b[39mtime()\n\u001b[1;32m   1019\u001b[0m \u001b[38;5;28mself\u001b[39m\u001b[38;5;241m.\u001b[39m_solve_time \u001b[38;5;241m=\u001b[39m end \u001b[38;5;241m-\u001b[39m start\n",
      "File \u001b[0;32m~/miniconda3/envs/DFS/lib/python3.9/site-packages/cvxpy/reductions/solvers/solving_chain.py:361\u001b[0m, in \u001b[0;36mSolvingChain.solve_via_data\u001b[0;34m(self, problem, data, warm_start, verbose, solver_opts)\u001b[0m\n\u001b[1;32m    325\u001b[0m \u001b[38;5;28;01mdef\u001b[39;00m \u001b[38;5;21msolve_via_data\u001b[39m(\u001b[38;5;28mself\u001b[39m, problem, data, warm_start: \u001b[38;5;28mbool\u001b[39m \u001b[38;5;241m=\u001b[39m \u001b[38;5;28;01mFalse\u001b[39;00m, verbose: \u001b[38;5;28mbool\u001b[39m \u001b[38;5;241m=\u001b[39m \u001b[38;5;28;01mFalse\u001b[39;00m,\n\u001b[1;32m    326\u001b[0m                    solver_opts\u001b[38;5;241m=\u001b[39m{}):\n\u001b[1;32m    327\u001b[0m     \u001b[38;5;124;03m\"\"\"Solves the problem using the data output by the an apply invocation.\u001b[39;00m\n\u001b[1;32m    328\u001b[0m \n\u001b[1;32m    329\u001b[0m \u001b[38;5;124;03m    The semantics are:\u001b[39;00m\n\u001b[0;32m   (...)\u001b[0m\n\u001b[1;32m    359\u001b[0m \u001b[38;5;124;03m        a Solution object.\u001b[39;00m\n\u001b[1;32m    360\u001b[0m \u001b[38;5;124;03m    \"\"\"\u001b[39;00m\n\u001b[0;32m--> 361\u001b[0m     \u001b[38;5;28;01mreturn\u001b[39;00m \u001b[38;5;28;43mself\u001b[39;49m\u001b[38;5;241;43m.\u001b[39;49m\u001b[43msolver\u001b[49m\u001b[38;5;241;43m.\u001b[39;49m\u001b[43msolve_via_data\u001b[49m\u001b[43m(\u001b[49m\u001b[43mdata\u001b[49m\u001b[43m,\u001b[49m\u001b[43m \u001b[49m\u001b[43mwarm_start\u001b[49m\u001b[43m,\u001b[49m\u001b[43m \u001b[49m\u001b[43mverbose\u001b[49m\u001b[43m,\u001b[49m\n\u001b[1;32m    362\u001b[0m \u001b[43m                                      \u001b[49m\u001b[43msolver_opts\u001b[49m\u001b[43m,\u001b[49m\u001b[43m \u001b[49m\u001b[43mproblem\u001b[49m\u001b[38;5;241;43m.\u001b[39;49m\u001b[43m_solver_cache\u001b[49m\u001b[43m)\u001b[49m\n",
      "File \u001b[0;32m~/miniconda3/envs/DFS/lib/python3.9/site-packages/cvxpy/reductions/solvers/conic_solvers/scip_conif.py:181\u001b[0m, in \u001b[0;36mSCIP.solve_via_data\u001b[0;34m(self, data, warm_start, verbose, solver_opts, solver_cache)\u001b[0m\n\u001b[1;32m    179\u001b[0m constraints \u001b[38;5;241m=\u001b[39m \u001b[38;5;28mself\u001b[39m\u001b[38;5;241m.\u001b[39m_add_constraints(model, variables, A, b, dims)\n\u001b[1;32m    180\u001b[0m \u001b[38;5;28mself\u001b[39m\u001b[38;5;241m.\u001b[39m_set_params(model, verbose, solver_opts)\n\u001b[0;32m--> 181\u001b[0m solution \u001b[38;5;241m=\u001b[39m \u001b[38;5;28;43mself\u001b[39;49m\u001b[38;5;241;43m.\u001b[39;49m\u001b[43m_solve\u001b[49m\u001b[43m(\u001b[49m\u001b[43mmodel\u001b[49m\u001b[43m,\u001b[49m\u001b[43m \u001b[49m\u001b[43mvariables\u001b[49m\u001b[43m,\u001b[49m\u001b[43m \u001b[49m\u001b[43mconstraints\u001b[49m\u001b[43m,\u001b[49m\u001b[43m \u001b[49m\u001b[43mdata\u001b[49m\u001b[43m,\u001b[49m\u001b[43m \u001b[49m\u001b[43mdims\u001b[49m\u001b[43m)\u001b[49m\n\u001b[1;32m    183\u001b[0m \u001b[38;5;28;01mreturn\u001b[39;00m solution\n",
      "File \u001b[0;32m~/miniconda3/envs/DFS/lib/python3.9/site-packages/cvxpy/reductions/solvers/conic_solvers/scip_conif.py:318\u001b[0m, in \u001b[0;36mSCIP._solve\u001b[0;34m(self, model, variables, constraints, data, dims)\u001b[0m\n\u001b[1;32m    315\u001b[0m \u001b[38;5;124;03m\"\"\"Solve and return a solution if one exists.\"\"\"\u001b[39;00m\n\u001b[1;32m    317\u001b[0m \u001b[38;5;28;01mtry\u001b[39;00m:\n\u001b[0;32m--> 318\u001b[0m     \u001b[43mmodel\u001b[49m\u001b[38;5;241;43m.\u001b[39;49m\u001b[43moptimize\u001b[49m\u001b[43m(\u001b[49m\u001b[43m)\u001b[49m\n\u001b[1;32m    319\u001b[0m \u001b[38;5;28;01mexcept\u001b[39;00m \u001b[38;5;167;01mException\u001b[39;00m \u001b[38;5;28;01mas\u001b[39;00m e:\n\u001b[1;32m    320\u001b[0m     log\u001b[38;5;241m.\u001b[39mwarning(\u001b[38;5;124m\"\u001b[39m\u001b[38;5;124mError encountered when optimising \u001b[39m\u001b[38;5;132;01m%s\u001b[39;00m\u001b[38;5;124m: \u001b[39m\u001b[38;5;132;01m%s\u001b[39;00m\u001b[38;5;124m\"\u001b[39m, model, e)\n",
      "\u001b[0;31mKeyboardInterrupt\u001b[0m: "
     ]
    },
    {
     "name": "stdout",
     "output_type": "stream",
     "text": [
      "379k |  24 | 132 | 192 |  99 | 161 |  1 | 106 | 158 |-1.403487e+02 |-1.115615e+02 |  25.80%|   5.23%\n",
      "  0.2s|   600 |   443 |  1725 |   2.8 |  4446k |  24 | 132 | 205 | 101 | 162 |  1 | 120 | 169 |-1.403487e+02 |-1.115615e+02 |  25.80%|   5.36%\n",
      "  0.3s|   700 |   515 |  1908 |   2.7 |  4574k |  27 | 132 | 217 |  99 | 187 |  1 | 132 | 172 |-1.403487e+02 |-1.115615e+02 |  25.80%|   5.42%\n",
      "  0.3s|   800 |   589 |  2086 |   2.6 |  4607k |  29 | 132 | 226 |  99 | 203 |  1 | 143 | 177 |-1.403487e+02 |-1.115615e+02 |  25.80%|   5.46%\n",
      "  0.3s|   900 |   677 |  2276 |   2.5 |  4607k |  29 | 132 | 232 |  99 | 208 |  1 | 159 | 187 |-1.401608e+02 |-1.115615e+02 |  25.64%|   6.01%\n",
      "  0.3s|  1000 |   751 |  2403 |   2.4 |  4622k |  29 | 132 | 238 |  99 | 209 |  1 | 180 | 192 |-1.401608e+02 |-1.115615e+02 |  25.64%|   6.03%\n",
      "* 0.3s|  1074 |   797 |  2551 |   2.3 |    LP  |  29 | 132 | 244 |  99 | 219 |  1 | 196 | 198 |-1.401608e+02 |-1.116353e+02 |  25.55%|   7.38%\n",
      "  0.3s|  1100 |   817 |  2623 |   2.4 |  4882k |  29 | 132 | 246 |  99 | 238 |  2 | 201 | 199 |-1.401608e+02 |-1.116353e+02 |  25.55%|   8.05%\n",
      "  0.4s|  1200 |   901 |  2887 |   2.4 |  4882k |  29 | 132 | 249 | 100 | 251 |  1 | 213 | 211 |-1.401608e+02 |-1.116353e+02 |  25.55%|   8.44%\n",
      "  0.4s|  1300 |   979 |  3088 |   2.3 |  5050k |  29 | 132 | 252 | 101 | 259 |  2 | 225 | 213 |-1.400870e+02 |-1.116353e+02 |  25.49%|   8.75%\n",
      "  0.4s|  1400 |  1049 |  3357 |   2.4 |  5225k |  29 | 132 | 254 | 101 | 294 |  1 | 235 | 215 |-1.400870e+02 |-1.116353e+02 |  25.49%|   8.87%\n",
      "  0.4s|  1500 |  1115 |  3508 |   2.3 |  5225k |  35 | 132 | 258 | 101 | 298 |  1 | 257 | 221 |-1.400870e+02 |-1.116353e+02 |  25.49%|   9.97%\n",
      "  0.4s|  1600 |  1201 |  3700 |   2.3 |  5225k |  35 | 132 | 258 | 101 | 305 |  1 | 263 | 223 |-1.400501e+02 |-1.116353e+02 |  25.45%|  10.24%\n",
      "  0.5s|  1700 |  1275 |  3865 |   2.3 |  5377k |  35 | 132 | 263 | 102 | 324 |  1 | 279 | 224 |-1.400501e+02 |-1.116353e+02 |  25.45%|  10.27%\n",
      "  0.5s|  1800 |  1349 |  4035 |   2.2 |  5377k |  35 | 132 | 271 |  99 | 326 |  1 | 303 | 226 |-1.400501e+02 |-1.116353e+02 |  25.45%|  10.30%\n",
      " time | node  | left  |LP iter|LP it/n|mem/heur|mdpt |vars |cons |rows |cuts |sepa|confs|strbr|  dualbound   | primalbound  |  gap   | compl. \n",
      "  0.5s|  1900 |  1431 |  4201 |   2.2 |  5377k |  36 | 132 | 273 | 101 | 330 |  1 | 314 | 227 |-1.399403e+02 |-1.116353e+02 |  25.35%|  10.36%\n",
      "  0.5s|  2000 |  1509 |  4331 |   2.1 |  5408k |  39 | 132 | 276 |  99 | 335 |  2 | 327 | 228 |-1.399403e+02 |-1.116353e+02 |  25.35%|  10.60%\n",
      "  0.6s|  2100 |  1589 |  4551 |   2.1 |  5746k |  39 | 132 | 279 | 102 | 354 |  4 | 339 | 231 |-1.399403e+02 |-1.116353e+02 |  25.35%|  10.75%\n",
      "  0.6s|  2200 |  1667 |  4772 |   2.2 |  5746k |  39 | 132 | 280 |  99 | 360 |  0 | 348 | 235 |-1.399000e+02 |-1.116353e+02 |  25.32%|  10.92%\n",
      "  0.6s|  2300 |  1747 |  4943 |   2.1 |  6069k |  39 | 132 | 282 |  99 | 368 |  0 | 355 | 238 |-1.399000e+02 |-1.116353e+02 |  25.32%|  10.94%\n",
      "  0.6s|  2400 |  1829 |  5118 |   2.1 |  6081k |  39 | 132 | 285 |  99 | 385 |  1 | 366 | 240 |-1.399000e+02 |-1.116353e+02 |  25.32%|  11.19%\n",
      "  0.6s|  2500 |  1905 |  5213 |   2.1 |  6418k |  39 | 132 | 285 |  99 | 388 |  1 | 377 | 240 |-1.399000e+02 |-1.116353e+02 |  25.32%|  11.22%\n",
      "  0.7s|  2600 |  1985 |  5374 |   2.1 |  6418k |  45 | 132 | 288 |  99 | 388 |  1 | 390 | 252 |-1.399000e+02 |-1.116353e+02 |  25.32%|  11.32%\n",
      "  0.7s|  2700 |  2053 |  5624 |   2.1 |  6544k |  45 | 132 | 292 |  99 | 407 |  2 | 406 | 257 |-1.398511e+02 |-1.116353e+02 |  25.27%|  11.37%\n",
      "  0.7s|  2800 |  2125 |  5819 |   2.1 |  6565k |  45 | 132 | 296 | 101 | 422 |  1 | 423 | 259 |-1.398374e+02 |-1.116353e+02 |  25.26%|  11.40%\n",
      "  0.7s|  2900 |  2189 |  6060 |   2.1 |  6938k |  45 | 132 | 297 |  99 | 447 |  1 | 434 | 260 |-1.398170e+02 |-1.116353e+02 |  25.24%|  11.93%\n",
      "  0.8s|  3000 |  2271 |  6287 |   2.1 |  6938k |  45 | 132 | 298 | 100 | 466 |  1 | 442 | 261 |-1.398170e+02 |-1.116353e+02 |  25.24%|  12.00%\n",
      "  0.8s|  3100 |  2351 |  6466 |   2.1 |  6950k |  45 | 132 | 300 |  99 | 472 |  1 | 453 | 268 |-1.398170e+02 |-1.116353e+02 |  25.24%|  12.40%\n",
      "  0.8s|  3200 |  2437 |  6631 |   2.1 |  6950k |  45 | 132 | 300 | 100 | 476 |  1 | 459 | 268 |-1.398170e+02 |-1.116353e+02 |  25.24%|  12.40%\n",
      "  0.8s|  3300 |  2513 |  6763 |   2.0 |  6951k |  45 | 132 | 303 | 101 | 479 |  1 | 473 | 273 |-1.397549e+02 |-1.116353e+02 |  25.19%|  12.60%\n",
      " time | node  | left  |LP iter|LP it/n|mem/heur|mdpt |vars |cons |rows |cuts |sepa|confs|strbr|  dualbound   | primalbound  |  gap   | compl. \n",
      "  0.8s|  3400 |  2589 |  6941 |   2.0 |  6951k |  45 | 132 | 306 | 101 | 479 |  2 | 482 | 275 |-1.397235e+02 |-1.116353e+02 |  25.16%|  13.02%\n",
      "  0.8s|  3500 |  2649 |  7064 |   2.0 |  7098k |  45 | 132 | 306 |  99 | 494 |  1 | 495 | 275 |-1.397145e+02 |-1.116353e+02 |  25.15%|  13.09%\n",
      "  0.9s|  3600 |  2719 |  7151 |   2.0 |  7098k |  45 | 132 | 306 |  99 | 494 |  1 | 508 | 275 |-1.397145e+02 |-1.116353e+02 |  25.15%|  13.22%\n",
      "  0.9s|  3700 |  2791 |  7268 |   2.0 |  7098k |  45 | 132 | 308 | 101 | 494 |  2 | 523 | 277 |-1.396941e+02 |-1.116353e+02 |  25.13%|  13.38%\n",
      "  0.9s|  3800 |  2863 |  7474 |   2.0 |  7099k |  45 | 132 | 309 | 100 | 518 |  1 | 534 | 279 |-1.396941e+02 |-1.116353e+02 |  25.13%|  13.42%\n",
      "  0.9s|  3900 |  2929 |  7655 |   2.0 |  7247k |  45 | 132 | 311 | 100 | 533 |  0 | 547 | 281 |-1.396941e+02 |-1.116353e+02 |  25.13%|  13.55%\n",
      "  1.0s|  4000 |  3003 |  7856 |   2.0 |  7247k |  45 | 132 | 314 |  99 | 548 |  1 | 564 | 284 |-1.396941e+02 |-1.116353e+02 |  25.13%|  13.63%\n",
      "  1.0s|  4100 |  3079 |  8038 |   2.0 |  7308k |  45 | 132 | 318 | 100 | 550 |  1 | 579 | 286 |-1.396941e+02 |-1.116353e+02 |  25.13%|  13.76%\n",
      "  1.0s|  4200 |  3147 |  8147 |   1.9 |  7312k |  45 | 132 | 323 |  99 | 552 |  1 | 603 | 290 |-1.396941e+02 |-1.116353e+02 |  25.13%|  13.76%\n",
      "  1.0s|  4300 |  3207 |  8358 |   1.9 |  7546k |  45 | 132 | 328 | 102 | 572 |  2 | 623 | 294 |-1.396941e+02 |-1.116353e+02 |  25.13%|  13.83%\n",
      "  1.0s|  4400 |  3273 |  8704 |   2.0 |  8168k |  45 | 132 | 333 | 102 | 616 |  1 | 638 | 295 |-1.396941e+02 |-1.116353e+02 |  25.13%|  13.87%\n",
      "  1.1s|  4500 |  3349 |  8872 |   2.0 |  8168k |  45 | 132 | 333 | 100 | 627 |  1 | 646 | 296 |-1.396941e+02 |-1.116353e+02 |  25.13%|  13.98%\n",
      "  1.1s|  4600 |  3415 |  8996 |   1.9 |  8562k |  45 | 132 | 334 | 101 | 638 |  1 | 659 | 296 |-1.396941e+02 |-1.116353e+02 |  25.13%|  14.29%\n",
      "  1.1s|  4700 |  3485 |  9187 |   1.9 |  8818k |  45 | 132 | 338 | 100 | 658 |  1 | 676 | 296 |-1.396809e+02 |-1.116353e+02 |  25.12%|  14.44%\n",
      "  1.1s|  4800 |  3551 |  9407 |   2.0 |  9094k |  45 | 132 | 340 | 100 | 673 |  1 | 691 | 300 |-1.396427e+02 |-1.116353e+02 |  25.09%|  14.66%\n",
      " time | node  | left  |LP iter|LP it/n|mem/heur|mdpt |vars |cons |rows |cuts |sepa|confs|strbr|  dualbound   | primalbound  |  gap   | compl. \n",
      "  1.2s|  4900 |  3625 |  9652 |   2.0 |  9404k |  47 | 132 | 341 |  99 | 699 |  1 | 700 | 314 |-1.396427e+02 |-1.116353e+02 |  25.09%|  14.80%\n",
      "  1.2s|  5000 |  3681 |  9922 |   2.0 |    10M |  47 | 132 | 345 | 101 | 739 |  0 | 716 | 317 |-1.395850e+02 |-1.116353e+02 |  25.04%|  15.01%\n",
      "  1.2s|  5100 |  3739 | 10116 |   2.0 |    10M |  47 | 132 | 346 |  99 | 773 |  2 | 726 | 318 |-1.395850e+02 |-1.116353e+02 |  25.04%|  15.02%\n",
      "  1.3s|  5200 |  3801 | 10351 |   2.0 |    11M |  47 | 132 | 347 |  99 | 842 |  2 | 737 | 323 |-1.395850e+02 |-1.116353e+02 |  25.04%|  15.19%\n",
      "  1.3s|  5300 |  3869 | 10464 |   2.0 |    11M |  47 | 132 | 349 | 101 | 850 |  1 | 752 | 324 |-1.395850e+02 |-1.116353e+02 |  25.04%|  15.21%\n",
      "  1.3s|  5400 |  3933 | 10679 |   2.0 |    11M |  47 | 132 | 350 | 102 | 877 |  2 | 764 | 328 |-1.395850e+02 |-1.116353e+02 |  25.04%|  15.40%\n",
      "  1.3s|  5500 |  3999 | 10927 |   2.0 |    11M |  47 | 132 | 352 | 102 | 900 |  1 | 776 | 329 |-1.395850e+02 |-1.116353e+02 |  25.04%|  15.54%\n",
      "  1.3s|  5600 |  4067 | 11073 |   2.0 |    11M |  47 | 132 | 353 | 101 | 910 |  1 | 787 | 330 |-1.395843e+02 |-1.116353e+02 |  25.04%|  15.63%\n",
      "  1.4s|  5700 |  4137 | 11211 |   2.0 |    11M |  47 | 132 | 354 |  99 | 920 |  1 | 802 | 334 |-1.395843e+02 |-1.116353e+02 |  25.04%|  15.82%\n",
      "  1.4s|  5800 |  4203 | 11430 |   2.0 |    11M |  47 | 132 | 362 | 102 | 927 |  3 | 824 | 334 |-1.395843e+02 |-1.116353e+02 |  25.04%|  15.84%\n",
      "  1.4s|  5900 |  4279 | 11641 |   2.0 |    11M |  47 | 132 | 365 | 101 | 937 |  1 | 834 | 339 |-1.395843e+02 |-1.116353e+02 |  25.04%|  15.85%\n",
      "  1.4s|  6000 |  4349 | 11763 |   2.0 |    11M |  47 | 132 | 367 | 101 | 937 |  1 | 843 | 339 |-1.395843e+02 |-1.116353e+02 |  25.04%|  15.85%\n",
      "  1.4s|  6100 |  4417 | 11861 |   1.9 |    11M |  47 | 132 | 367 | 101 | 937 |  1 | 849 | 339 |-1.395804e+02 |-1.116353e+02 |  25.03%|  16.00%\n",
      "  1.4s|  6200 |  4487 | 12021 |   1.9 |    11M |  47 | 132 | 371 |  99 | 940 |  2 | 866 | 341 |-1.395751e+02 |-1.116353e+02 |  25.03%|  16.04%\n",
      "  1.4s|  6300 |  4561 | 12185 |   1.9 |    11M |  47 | 132 | 372 | 101 | 940 |  1 | 877 | 342 |-1.395751e+02 |-1.116353e+02 |  25.03%|  16.72%\n",
      " time | node  | left  |LP iter|LP it/n|mem/heur|mdpt |vars |cons |rows |cuts |sepa|confs|strbr|  dualbound   | primalbound  |  gap   | compl. \n",
      "  1.5s|  6400 |  4617 | 12326 |   1.9 |    12M |  47 | 132 | 374 | 101 | 966 |  1 | 893 | 342 |-1.395751e+02 |-1.116353e+02 |  25.03%|  17.13%\n",
      "  1.5s|  6500 |  4695 | 12426 |   1.9 |    12M |  47 | 132 | 375 | 102 | 976 |  1 | 901 | 344 |-1.395341e+02 |-1.116353e+02 |  24.99%|  17.39%\n",
      "  1.5s|  6600 |  4759 | 12531 |   1.9 |    12M |  47 | 132 | 382 |  99 | 986 |  1 | 923 | 345 |-1.395132e+02 |-1.116353e+02 |  24.97%|  17.49%\n",
      "  1.5s|  6700 |  4837 | 12745 |   1.9 |    12M |  47 | 132 | 382 | 102 | 994 |  1 | 930 | 345 |-1.394821e+02 |-1.116353e+02 |  24.94%|  17.51%\n",
      "  1.5s|  6800 |  4907 | 12886 |   1.9 |    12M |  47 | 132 | 382 | 100 |1012 |  1 | 942 | 346 |-1.394821e+02 |-1.116353e+02 |  24.94%|  17.72%\n",
      "  1.5s|  6900 |  4983 | 13067 |   1.9 |    12M |  47 | 132 | 386 | 100 |1020 |  1 | 954 | 346 |-1.394821e+02 |-1.116353e+02 |  24.94%|  17.74%\n",
      "  1.6s|  7000 |  5035 | 13374 |   1.9 |    13M |  47 | 132 | 391 |  99 |1061 |  2 | 971 | 346 |-1.394821e+02 |-1.116353e+02 |  24.94%|  17.94%\n",
      "  1.6s|  7100 |  5111 | 13490 |   1.9 |    13M |  47 | 132 | 392 | 101 |1062 |  1 | 983 | 346 |-1.394821e+02 |-1.116353e+02 |  24.94%|  17.95%\n",
      "  1.6s|  7200 |  5179 | 13687 |   1.9 |    13M |  47 | 132 | 393 | 100 |1074 |  1 | 997 | 347 |-1.394821e+02 |-1.116353e+02 |  24.94%|  17.98%\n",
      "  1.6s|  7300 |  5243 | 13855 |   1.9 |    13M |  47 | 132 | 396 |  99 |1091 |  2 |1009 | 349 |-1.394714e+02 |-1.116353e+02 |  24.93%|  18.21%\n",
      "  1.6s|  7400 |  5311 | 14062 |   1.9 |    13M |  47 | 132 | 398 | 101 |1104 |  1 |1017 | 351 |-1.394714e+02 |-1.116353e+02 |  24.93%|  18.21%\n",
      "  1.7s|  7500 |  5385 | 14154 |   1.9 |    13M |  47 | 132 | 399 | 102 |1111 |  2 |1027 | 352 |-1.394714e+02 |-1.116353e+02 |  24.93%|  18.30%\n",
      "  1.7s|  7600 |  5451 | 14349 |   1.9 |    13M |  47 | 132 | 404 | 101 |1120 |  1 |1046 | 354 |-1.394661e+02 |-1.116353e+02 |  24.93%|  18.43%\n",
      "  1.7s|  7700 |  5527 | 14472 |   1.9 |    13M |  47 | 132 | 404 | 100 |1128 |  1 |1052 | 354 |-1.394614e+02 |-1.116353e+02 |  24.93%|  18.68%\n",
      "  1.7s|  7800 |  5577 | 14790 |   1.9 |    13M |  47 | 132 | 405 | 101 |1196 |  1 |1065 | 355 |-1.394219e+02 |-1.116353e+02 |  24.89%|  18.88%\n",
      " time | node  | left  |LP iter|LP it/n|mem/heur|mdpt |vars |cons |rows |cuts |sepa|confs|strbr|  dualbound   | primalbound  |  gap   | compl. \n",
      "  1.7s|  7900 |  5655 | 14882 |   1.9 |    13M |  47 | 132 | 406 |  99 |1196 |  1 |1076 | 355 |-1.394219e+02 |-1.116353e+02 |  24.89%|  18.88%\n",
      "  1.7s|  8000 |  5719 | 15023 |   1.9 |    13M |  47 | 132 | 411 | 101 |1212 |  1 |1092 | 355 |-1.394219e+02 |-1.116353e+02 |  24.89%|  18.88%\n",
      "  1.8s|  8100 |  5791 | 15141 |   1.9 |    13M |  47 | 132 | 411 | 100 |1217 |  1 |1107 | 357 |-1.394219e+02 |-1.116353e+02 |  24.89%|  18.89%\n",
      "  1.8s|  8200 |  5863 | 15274 |   1.9 |    13M |  47 | 132 | 412 | 101 |1225 |  1 |1119 | 357 |-1.394212e+02 |-1.116353e+02 |  24.89%|  18.89%\n",
      "  1.8s|  8300 |  5931 | 15469 |   1.9 |    13M |  47 | 132 | 413 | 101 |1236 |  1 |1128 | 362 |-1.394212e+02 |-1.116353e+02 |  24.89%|  18.93%\n",
      "  1.8s|  8400 |  5997 | 15573 |   1.8 |    13M |  47 | 132 | 413 |  99 |1243 |  1 |1140 | 362 |-1.393882e+02 |-1.116353e+02 |  24.86%|  19.10%\n",
      "  1.8s|  8500 |  6067 | 15746 |   1.8 |    14M |  47 | 132 | 415 |  99 |1261 |  2 |1156 | 372 |-1.393882e+02 |-1.116353e+02 |  24.86%|  19.10%\n",
      "  1.8s|  8600 |  6143 | 15946 |   1.8 |    14M |  47 | 132 | 415 |  99 |1277 |  2 |1161 | 373 |-1.393882e+02 |-1.116353e+02 |  24.86%|  19.25%\n",
      "  1.9s|  8700 |  6207 | 16097 |   1.8 |    14M |  47 | 132 | 419 | 101 |1288 |  0 |1176 | 375 |-1.393882e+02 |-1.116353e+02 |  24.86%|  19.32%\n",
      "  1.9s|  8800 |  6265 | 16259 |   1.8 |    14M |  47 | 132 | 421 |  99 |1305 |  1 |1194 | 376 |-1.393724e+02 |-1.116353e+02 |  24.85%|  19.35%\n",
      "  1.9s|  8900 |  6345 | 16429 |   1.8 |    14M |  47 | 132 | 422 |  99 |1307 |  1 |1205 | 376 |-1.393724e+02 |-1.116353e+02 |  24.85%|  19.36%\n",
      "  1.9s|  9000 |  6411 | 16659"
     ]
    }
   ],
   "source": [
    "constraints = [salary,\n",
    "               teams_var_con,\n",
    "               teams_con,\n",
    "               games_var_con,\n",
    "               games_con,\n",
    "               players_teams,\n",
    "               total_players,\n",
    "               positions_max_con,\n",
    "               positions_min_con]\n",
    "problem = cvxpy.Problem(cvxpy.Maximize(obj), constraints=constraints)\n",
    "problem.solve(solver=cvxpy.SCIP, verbose=True)"
   ]
  },
  {
   "cell_type": "code",
   "execution_count": null,
   "id": "8a390ef1",
   "metadata": {},
   "outputs": [],
   "source": []
  }
 ],
 "metadata": {
  "kernelspec": {
   "display_name": "Python 3 (ipykernel)",
   "language": "python",
   "name": "python3"
  },
  "language_info": {
   "codemirror_mode": {
    "name": "ipython",
    "version": 3
   },
   "file_extension": ".py",
   "mimetype": "text/x-python",
   "name": "python",
   "nbconvert_exporter": "python",
   "pygments_lexer": "ipython3",
   "version": "3.9.12"
  }
 },
 "nbformat": 4,
 "nbformat_minor": 5
}
