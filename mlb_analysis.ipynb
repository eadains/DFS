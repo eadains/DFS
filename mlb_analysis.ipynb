{
 "cells": [
  {
   "cell_type": "code",
   "execution_count": 49,
   "id": "c58ac2c0",
   "metadata": {},
   "outputs": [],
   "source": [
    "import sqlite3\n",
    "import pandas as pd\n",
    "import numpy as np\n",
    "import cvxpy"
   ]
  },
  {
   "cell_type": "code",
   "execution_count": 112,
   "id": "ee76229a",
   "metadata": {},
   "outputs": [],
   "source": [
    "proj = pd.concat([pd.read_csv(\"proj.csv\"), pd.read_csv(\"proj2.csv\")])\n",
    "proj = proj[proj[\"FantasyPointsFanDuel\"] > 0]\n",
    "\n",
    "slate = pd.read_csv(\"slate.csv\")\n",
    "slate[\"Name\"] = names = slate[\"First Name\"] + \" \" + slate[\"Last Name\"]\n",
    "# Merge expected number of fantasy points to current slate. Inner-join,\n",
    "# so any players on the slate not in 'proj' get dropped\n",
    "slate = slate.merge(proj[[\"Name\", \"FantasyPointsFanDuel\"]], on=\"Name\")"
   ]
  },
  {
   "cell_type": "code",
   "execution_count": 217,
   "id": "94a8b050",
   "metadata": {},
   "outputs": [],
   "source": [
    "# For each player(row), denote by a 1 positions that player can play\n",
    "valid_positions = slate[\"Position\"].str.get_dummies(sep=\"/\")\n",
    "# Combine 1B and C to one column where a 1 is present if the player can play\n",
    "# either or both\n",
    "valid_positions[\"C/1B\"] = (test[\"1B\"].astype(bool) | test[\"C\"].astype(bool)).astype(int)\n",
    "valid_positions = valid_positions.drop(columns=[\"1B\", \"C\"])\n",
    "# Any non-pitcher player can fill the UTIL position\n",
    "valid_positions[\"UTIL\"] = valid_positions.drop(columns=\"P\").astype(bool).any(axis=1).astype(int)\n",
    "# Reordering columns\n",
    "valid_positions = valid_positions[[\"P\", \"C/1B\", \"2B\", \"3B\", \"SS\", \"OF\", \"UTIL\"]]"
   ]
  },
  {
   "cell_type": "code",
   "execution_count": 201,
   "id": "618378bc",
   "metadata": {},
   "outputs": [],
   "source": [
    "# Each player is a row, each column represents a position\n",
    "# Order: P, C/1B, 2B, 3B, SS, OF, UTIL\n",
    "selection = cvxpy.Variable((len(slate), 7), boolean=True)\n",
    "\n",
    "# Each player can only be selected for 1 position\n",
    "individual = cvxpy.sum(selection, axis=1) == 1\n",
    "# Ensure that each player is only selected for positions they can play\n",
    "feasible_positions = selection <= valid_positions\n",
    "# Ensure that we select the proper number of players for each position\n",
    "position_limits = [1, 1, 1, 1, 1, 3, 1]\n",
    "positions = cvxpy.sum(selection, axis=0) == position_limits\n",
    "\n",
    "player_teams = pd.get_dummies(slate[\"Team\"])\n",
    "team_indicator = cvxpy.Variable(len(slate[\"Team\"].unique()), boolean=True)\n",
    "teams = cvxpy.sum(selection, axis=1) @ player_teams <= "
   ]
  },
  {
   "cell_type": "code",
   "execution_count": 236,
   "id": "d2be3a39",
   "metadata": {},
   "outputs": [
    {
     "data": {
      "text/plain": [
       "array(['STL', 'LAA', 'MIL', 'KC', 'LAD', 'HOU', 'OAK', 'NYY', 'CWS',\n",
       "       'BOS', 'ATL', 'BAL', 'TOR', 'SF', 'ARI', 'SEA', 'MIN', 'PIT',\n",
       "       'NYM', 'TEX', 'COL', 'CHC'], dtype=object)"
      ]
     },
     "execution_count": 236,
     "metadata": {},
     "output_type": "execute_result"
    }
   ],
   "source": [
    "slate[\"Team\"].unique()"
   ]
  },
  {
   "cell_type": "code",
   "execution_count": 227,
   "id": "4dfcb873",
   "metadata": {},
   "outputs": [],
   "source": [
    "test = np.random.randint(0, 2, 202)"
   ]
  },
  {
   "cell_type": "code",
   "execution_count": 234,
   "id": "fdaeae09",
   "metadata": {},
   "outputs": [
    {
     "data": {
      "text/plain": [
       "ARI    5\n",
       "ATL    4\n",
       "BAL    4\n",
       "BOS    5\n",
       "CHC    4\n",
       "COL    6\n",
       "CWS    2\n",
       "HOU    1\n",
       "KC     6\n",
       "LAA    7\n",
       "LAD    2\n",
       "MIL    4\n",
       "MIN    4\n",
       "NYM    5\n",
       "NYY    7\n",
       "OAK    6\n",
       "PIT    4\n",
       "SEA    3\n",
       "SF     6\n",
       "STL    6\n",
       "TEX    4\n",
       "TOR    4\n",
       "dtype: int64"
      ]
     },
     "execution_count": 234,
     "metadata": {},
     "output_type": "execute_result"
    }
   ],
   "source": [
    "test @ pd.get_dummies(slate[\"Team\"])"
   ]
  },
  {
   "cell_type": "markdown",
   "id": "7e1bc5e8",
   "metadata": {},
   "source": [
    "https://math.stackexchange.com/questions/2220355/involving-indicator-function-as-a-constraint-in-a-lp-problem"
   ]
  }
 ],
 "metadata": {
  "kernelspec": {
   "display_name": "Python 3 (ipykernel)",
   "language": "python",
   "name": "python3"
  },
  "language_info": {
   "codemirror_mode": {
    "name": "ipython",
    "version": 3
   },
   "file_extension": ".py",
   "mimetype": "text/x-python",
   "name": "python",
   "nbconvert_exporter": "python",
   "pygments_lexer": "ipython3",
   "version": "3.8.10"
  }
 },
 "nbformat": 4,
 "nbformat_minor": 5
}
