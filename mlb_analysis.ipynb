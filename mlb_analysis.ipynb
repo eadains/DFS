{
 "cells": [
  {
   "cell_type": "code",
   "execution_count": 1,
   "id": "c58ac2c0",
   "metadata": {},
   "outputs": [],
   "source": [
    "import sqlite3\n",
    "import pandas as pd\n",
    "import numpy as np\n",
    "import cvxpy\n",
    "from difflib import get_close_matches"
   ]
  },
  {
   "cell_type": "markdown",
   "id": "7a1f0631",
   "metadata": {},
   "source": [
    "## ATTEMPT 1"
   ]
  },
  {
   "cell_type": "code",
   "execution_count": 36,
   "id": "ee76229a",
   "metadata": {},
   "outputs": [],
   "source": [
    "proj = pd.concat([pd.read_csv(\"proj.csv\"), pd.read_csv(\"proj2.csv\")])\n",
    "proj = proj[proj[\"Proj\"] > 0]\n",
    "\n",
    "slate = pd.read_csv(\"slate.csv\")\n",
    "slate[\"Name\"] = names = slate[\"First Name\"] + \" \" + slate[\"Last Name\"]\n",
    "# Merge expected number of fantasy points to current slate. Inner-join,\n",
    "# so any players on the slate not in 'proj' get dropped\n",
    "slate = slate.merge(proj[[\"Name\", \"Proj\"]], on=\"Name\")"
   ]
  },
  {
   "cell_type": "code",
   "execution_count": 3,
   "id": "94a8b050",
   "metadata": {},
   "outputs": [],
   "source": [
    "# For each player(row), denote by a 1 positions that player can play\n",
    "valid_positions = slate[\"Position\"].str.get_dummies(sep=\"/\")\n",
    "# Combine 1B and C to one column where a 1 is present if the player can play\n",
    "# either or both\n",
    "valid_positions[\"C/1B\"] = (valid_positions[\"1B\"].astype(bool) | valid_positions[\"C\"].astype(bool)).astype(int)\n",
    "valid_positions = valid_positions.drop(columns=[\"1B\", \"C\"])\n",
    "# Any non-pitcher player can fill the UTIL position\n",
    "valid_positions[\"UTIL\"] = valid_positions.drop(columns=\"P\").astype(bool).any(axis=1).astype(int)\n",
    "# Reordering columns\n",
    "valid_positions = valid_positions[[\"P\", \"C/1B\", \"2B\", \"3B\", \"SS\", \"OF\", \"UTIL\"]]"
   ]
  },
  {
   "cell_type": "code",
   "execution_count": 4,
   "id": "618378bc",
   "metadata": {},
   "outputs": [],
   "source": [
    "# Each player is a row, each column represents a position\n",
    "# Order: P, C/1B, 2B, 3B, SS, OF, UTIL\n",
    "selection = cvxpy.Variable((len(slate), 7), boolean=True)\n",
    "\n",
    "# Each player can only be selected for 1 position\n",
    "individual = cvxpy.sum(selection, axis=1) == 1\n",
    "# Ensure that each player is only selected for positions they can play\n",
    "feasible_positions = selection <= valid_positions\n",
    "# Ensure that we select the proper number of players for each position\n",
    "position_limits = [1, 1, 1, 1, 1, 3, 1]\n",
    "positions = cvxpy.sum(selection, axis=0) == position_limits\n",
    "\n",
    "player_teams = pd.get_dummies(slate[\"Team\"])\n",
    "# Indicator variable for each team when a player has been selected from a team\n",
    "team_indicator_var = cvxpy.Variable(len(player_teams.columns), boolean=True)\n",
    "team_indicator_con = team_indicator_var <= cvxpy.sum(selection, axis=1) @ player_teams\n",
    "# Must have players from at least 3 teams\n",
    "teams = cvxpy.sum(team_indicator_var) >= 3\n",
    "# Number of players per team, excluding the pitcher (column 1), must be less than\n",
    "# or equal to 4\n",
    "players_per_team = cvxpy.sum(selection[:, 1:], axis=1) @ player_teams <= 4\n",
    "\n",
    "# Must select players from at least 2 games\n",
    "player_games = pd.get_dummies(slate[\"Game\"])\n",
    "# Indicator variable for each game when a player has been selected from that game\n",
    "game_indicator_var = cvxpy.Variable(len(player_games.columns), boolean=True)\n",
    "game_indicator_con = game_indicator_var <= cvxpy.sum(selection, axis=1) @ player_games\n",
    "games = cvxpy.sum(game_indicator_var) >= 2\n",
    "\n",
    "# Total salary must be less than $35,000\n",
    "salary = cvxpy.sum(selection, axis=1) @ slate[\"Salary\"] <= 35000\n",
    "\n",
    "# Total number of fantasy points expected from selected players\n",
    "tfp = cvxpy.sum(selection, axis=1) @ slate[\"Proj\"]"
   ]
  },
  {
   "cell_type": "code",
   "execution_count": 14,
   "id": "402d73f4",
   "metadata": {},
   "outputs": [
    {
     "name": "stdout",
     "output_type": "stream",
     "text": [
      "===============================================================================\n",
      "                                     CVXPY                                     \n",
      "                                     v1.2.1                                    \n",
      "===============================================================================\n",
      "(CVXPY) May 17 10:54:25 AM: Your problem has 1447 variables, 9 constraints, and 0 parameters.\n",
      "(CVXPY) May 17 10:54:25 AM: It is compliant with the following grammars: DCP, DQCP\n",
      "(CVXPY) May 17 10:54:25 AM: (If you need to solve this problem multiple times, but with different data, consider using parameters.)\n",
      "(CVXPY) May 17 10:54:25 AM: CVXPY will first compile your problem; then, it will invoke a numerical solver to obtain a solution.\n",
      "-------------------------------------------------------------------------------\n",
      "                                  Compilation                                  \n",
      "-------------------------------------------------------------------------------\n",
      "(CVXPY) May 17 10:54:25 AM: Compiling problem (target solver=GLPK_MI).\n",
      "(CVXPY) May 17 10:54:25 AM: Reduction chain: FlipObjective -> Dcp2Cone -> CvxAttr2Constr -> ConeMatrixStuffing -> GLPK_MI\n",
      "(CVXPY) May 17 10:54:25 AM: Applying reduction FlipObjective\n",
      "(CVXPY) May 17 10:54:25 AM: Applying reduction Dcp2Cone\n",
      "(CVXPY) May 17 10:54:25 AM: Applying reduction CvxAttr2Constr\n",
      "(CVXPY) May 17 10:54:25 AM: Applying reduction ConeMatrixStuffing\n",
      "(CVXPY) May 17 10:54:25 AM: Applying reduction GLPK_MI\n",
      "(CVXPY) May 17 10:54:25 AM: Finished problem compilation (took 3.038e-02 seconds).\n",
      "-------------------------------------------------------------------------------\n",
      "                                Numerical solver                               \n",
      "-------------------------------------------------------------------------------\n",
      "(CVXPY) May 17 10:54:25 AM: Invoking solver GLPK_MI  to obtain a solution.\n",
      "-------------------------------------------------------------------------------\n",
      "                                    Summary                                    \n",
      "-------------------------------------------------------------------------------\n",
      "(CVXPY) May 17 10:54:25 AM: Problem status: infeasible\n",
      "(CVXPY) May 17 10:54:25 AM: Optimal value: -inf\n",
      "(CVXPY) May 17 10:54:25 AM: Compilation took 3.038e-02 seconds\n",
      "(CVXPY) May 17 10:54:25 AM: Solver (including time spent in interface) took 3.561e-03 seconds\n"
     ]
    }
   ],
   "source": [
    "constraints = [individual,\n",
    "               feasible_positions,\n",
    "               positions,\n",
    "               team_indicator_con,\n",
    "               teams,\n",
    "               players_per_team,\n",
    "               game_indicator_con,\n",
    "               games,\n",
    "               salary]\n",
    "problem = cvxpy.Problem(cvxpy.Maximize(tfp), constraints=constraints)\n",
    "result = problem.solve(solver=cvxpy.GLPK_MI, verbose=True)"
   ]
  },
  {
   "cell_type": "markdown",
   "id": "881a0073",
   "metadata": {},
   "source": [
    "## ATTEMPT 2"
   ]
  },
  {
   "cell_type": "code",
   "execution_count": 2,
   "id": "b47f8212",
   "metadata": {},
   "outputs": [],
   "source": [
    "def close_matches(x, possible):\n",
    "    matches = get_close_matches(x, possible)\n",
    "    if matches:\n",
    "        return matches[0]\n",
    "    else:\n",
    "        return np.nan"
   ]
  },
  {
   "cell_type": "code",
   "execution_count": 3,
   "id": "910dfcc6",
   "metadata": {
    "scrolled": true
   },
   "outputs": [],
   "source": [
    "proj = pd.read_csv(\"proj.csv\")\n",
    "proj = proj.rename(columns={\"Player\": \"Name\"})\n",
    "\n",
    "slate = pd.read_csv(\"slate.csv\")\n",
    "slate[\"Name\"] = names = slate[\"First Name\"] + \" \" + slate[\"Last Name\"]\n",
    "# Some name mismatches occur between projection data and slate data,\n",
    "# set slate names to closest match from projection data\n",
    "slate[\"Name\"] = slate[\"Name\"].apply(lambda x: close_matches(x, proj[\"Name\"]))\n",
    "# Merge expected number of fantasy points to current slate. Inner-join,\n",
    "# so any players on the slate not in 'proj' get dropped\n",
    "slate = slate.merge(proj[[\"Name\", \"Projection\"]], on=\"Name\")\n",
    "# For players that can fill multiple positions, assume they can only fill\n",
    "# the first position listed\n",
    "slate[\"Position\"] = slate[\"Position\"].str.split(\"/\", expand=True)[0]\n",
    "# Only consider players with positive point expectations\n",
    "slate = slate[slate[\"Projection\"] > 0]"
   ]
  },
  {
   "cell_type": "code",
   "execution_count": 4,
   "id": "e309174c",
   "metadata": {},
   "outputs": [],
   "source": [
    "player_positions = pd.get_dummies(slate[\"Position\"])\n",
    "# If a player plays either C or 1B, they can fill the 1B/C position\n",
    "player_positions[\"C/1B\"] = (player_positions[\"1B\"].astype(bool) | player_positions[\"C\"].astype(bool)).astype(int)\n",
    "player_positions = player_positions.drop(columns=[\"1B\", \"C\"])\n",
    "# Reorder columns\n",
    "player_positions = player_positions[[\"P\", \"C/1B\", \"2B\", \"3B\", \"SS\", \"OF\"]]\n",
    "\n",
    "teams = pd.get_dummies(slate[\"Team\"])\n",
    "games = pd.get_dummies(slate[\"Game\"])"
   ]
  },
  {
   "cell_type": "code",
   "execution_count": 5,
   "id": "27ceadab",
   "metadata": {},
   "outputs": [],
   "source": [
    "selection = cvxpy.Variable(len(slate), boolean=True)\n",
    "teams_var = cvxpy.Variable(len(teams.columns), boolean=True)\n",
    "games_var = cvxpy.Variable(len(games.columns), boolean=True)\n",
    "\n",
    "# Total salary must be less than or equal to $35,000\n",
    "salary = selection @ slate[\"Salary\"] <= 35000\n",
    "\n",
    "# Must select players from at least 3 different teams\n",
    "teams_var_con = teams_var <= selection @ teams\n",
    "teams_con = cvxpy.sum(teams_var) >= 3\n",
    "\n",
    "# Must select players from at least 2 different games\n",
    "games_var_con = games_var <= selection @ games\n",
    "games_con = cvxpy.sum(games_var) >= 2\n",
    "\n",
    "# No more than 4 players, not counting the pitcher, can be selected from the same team\n",
    "# First term is our selected players multiplied by a boolean array where 1's indicate non-pitcher players.\n",
    "# This filters the selected players so the constraint only applies to non-pitcher players\n",
    "players_teams = cvxpy.multiply(selection, (~player_positions[\"P\"].astype(bool)).astype(int)) @ teams <= 4\n",
    "\n",
    "# Must have 9 players selected\n",
    "total_players = cvxpy.sum(selection) == 9\n",
    "\n",
    "# Max and min number of players we can select for each position\n",
    "# Must always have 1 pitcher, who cannot fill the UTIL position\n",
    "# We can select up to 1 additional player from each other position because\n",
    "# the second can fill the UTIL position\n",
    "positions_max = [1, 2, 2, 2, 2, 4]\n",
    "positions_min = [1, 1, 1, 1, 1, 3]\n",
    "positions_max_con = selection @ player_positions <= positions_max\n",
    "positions_min_con = selection @ player_positions >= positions_min\n",
    "\n",
    "# Maxmize: Total number of fantasy points expcted for selected roster\n",
    "tfp = selection @ slate[\"Projection\"]"
   ]
  },
  {
   "cell_type": "code",
   "execution_count": 6,
   "id": "25e7c39f",
   "metadata": {},
   "outputs": [
    {
     "name": "stdout",
     "output_type": "stream",
     "text": [
      "===============================================================================\n",
      "                                     CVXPY                                     \n",
      "                                     v1.2.1                                    \n",
      "===============================================================================\n",
      "(CVXPY) May 17 05:39:50 PM: Your problem has 422 variables, 9 constraints, and 0 parameters.\n",
      "(CVXPY) May 17 05:39:50 PM: It is compliant with the following grammars: DCP, DQCP\n",
      "(CVXPY) May 17 05:39:50 PM: (If you need to solve this problem multiple times, but with different data, consider using parameters.)\n",
      "(CVXPY) May 17 05:39:50 PM: CVXPY will first compile your problem; then, it will invoke a numerical solver to obtain a solution.\n",
      "-------------------------------------------------------------------------------\n",
      "                                  Compilation                                  \n",
      "-------------------------------------------------------------------------------\n",
      "(CVXPY) May 17 05:39:50 PM: Compiling problem (target solver=GLPK_MI).\n",
      "(CVXPY) May 17 05:39:50 PM: Reduction chain: FlipObjective -> Dcp2Cone -> CvxAttr2Constr -> ConeMatrixStuffing -> GLPK_MI\n",
      "(CVXPY) May 17 05:39:50 PM: Applying reduction FlipObjective\n",
      "(CVXPY) May 17 05:39:50 PM: Applying reduction Dcp2Cone\n",
      "(CVXPY) May 17 05:39:50 PM: Applying reduction CvxAttr2Constr\n",
      "(CVXPY) May 17 05:39:50 PM: Applying reduction ConeMatrixStuffing\n",
      "(CVXPY) May 17 05:39:50 PM: Applying reduction GLPK_MI\n",
      "(CVXPY) May 17 05:39:50 PM: Finished problem compilation (took 2.268e-02 seconds).\n",
      "-------------------------------------------------------------------------------\n",
      "                                Numerical solver                               \n",
      "-------------------------------------------------------------------------------\n",
      "(CVXPY) May 17 05:39:50 PM: Invoking solver GLPK_MI  to obtain a solution.\n",
      "-------------------------------------------------------------------------------\n",
      "                                    Summary                                    \n",
      "-------------------------------------------------------------------------------      0: obj =  -5.670000000e+01 inf =   1.700e+01 (10)\n",
      "     20: obj =  -8.220500000e+01 inf =   0.000e+00 (0)\n",
      "*    70: obj =  -1.379683333e+02 inf =   2.958e-15 (0)\n",
      "+    70: mip =     not found yet >=              -inf        (1; 0)\n",
      "Solution found by heuristic: -136.58\n",
      "+   104: >>>>>  -1.371600000e+02 >=  -1.379085714e+02   0.5% (9; 1)\n",
      "+   113: >>>>>  -1.377100000e+02 >=  -1.378857143e+02   0.1% (9; 2)\n",
      "+   117: >>>>>  -1.377200000e+02 >=  -1.378145455e+02 < 0.1% (3; 13)\n",
      "+   123: mip =  -1.377200000e+02 >=     tree is empty   0.0% (0; 21)\n",
      "\n",
      "(CVXPY) May 17 05:39:50 PM: Problem status: optimal\n",
      "(CVXPY) May 17 05:39:50 PM: Optimal value: 1.377e+02\n",
      "(CVXPY) May 17 05:39:50 PM: Compilation took 2.268e-02 seconds\n",
      "(CVXPY) May 17 05:39:50 PM: Solver (including time spent in interface) took 1.458e-02 seconds\n"
     ]
    }
   ],
   "source": [
    "constraints = [salary,\n",
    "               teams_var_con,\n",
    "               teams_con,\n",
    "               games_var_con,\n",
    "               games_con,\n",
    "               players_teams,\n",
    "               total_players,\n",
    "               positions_max_con,\n",
    "               positions_min_con]\n",
    "problem = cvxpy.Problem(cvxpy.Maximize(tfp), constraints=constraints)\n",
    "result = problem.solve(solver=cvxpy.GLPK_MI, verbose=True)"
   ]
  },
  {
   "cell_type": "code",
   "execution_count": 7,
   "id": "a233b26a",
   "metadata": {
    "scrolled": false
   },
   "outputs": [
    {
     "name": "stdout",
     "output_type": "stream",
     "text": [
      "Expected Points: 137.72000000000003\n",
      "\n",
      "Roster:\n",
      "Jose Berrios\n",
      "Aaron Judge\n",
      "Giancarlo Stanton\n",
      "Brandon Belt\n",
      "Wilmer Flores\n",
      "Joc Pederson\n",
      "Brandon Crawford\n",
      "Anthony Rendon\n",
      "Marcus Semien\n"
     ]
    }
   ],
   "source": [
    "roster = dict(zip(slate[\"Name\"], selection.value))\n",
    "roster = [name for name, select in roster.items() if select > 0]\n",
    "\n",
    "print(f\"Expected Points: {problem.value}\\n\")\n",
    "print(\"Roster:\")\n",
    "for x in roster:\n",
    "    print(x)"
   ]
  },
  {
   "cell_type": "code",
   "execution_count": null,
   "id": "22d003eb",
   "metadata": {},
   "outputs": [],
   "source": [
    "# TODO: Players can fill multiple different positions, I.E 2B/SS"
   ]
  },
  {
   "cell_type": "code",
   "execution_count": null,
   "id": "fc4af63a",
   "metadata": {},
   "outputs": [],
   "source": []
  }
 ],
 "metadata": {
  "kernelspec": {
   "display_name": "Python 3 (ipykernel)",
   "language": "python",
   "name": "python3"
  },
  "language_info": {
   "codemirror_mode": {
    "name": "ipython",
    "version": 3
   },
   "file_extension": ".py",
   "mimetype": "text/x-python",
   "name": "python",
   "nbconvert_exporter": "python",
   "pygments_lexer": "ipython3",
   "version": "3.8.10"
  }
 },
 "nbformat": 4,
 "nbformat_minor": 5
}
